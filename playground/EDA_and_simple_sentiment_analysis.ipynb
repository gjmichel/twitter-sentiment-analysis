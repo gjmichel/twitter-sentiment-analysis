{
  "nbformat": 4,
  "nbformat_minor": 0,
  "metadata": {
    "colab": {
      "name": "EDA_and_simple_sentiment_analysis.ipynb",
      "provenance": [],
      "collapsed_sections": []
    },
    "kernelspec": {
      "name": "python3",
      "display_name": "Python 3"
    },
    "widgets": {
      "application/vnd.jupyter.widget-state+json": {
        "294a5ec1db7b4891afa1f35bf63769d5": {
          "model_module": "@jupyter-widgets/controls",
          "model_name": "HBoxModel",
          "state": {
            "_view_name": "HBoxView",
            "_dom_classes": [],
            "_model_name": "HBoxModel",
            "_view_module": "@jupyter-widgets/controls",
            "_model_module_version": "1.5.0",
            "_view_count": null,
            "_view_module_version": "1.5.0",
            "box_style": "",
            "layout": "IPY_MODEL_0cfc68de625c4fd793c26f19147ead1b",
            "_model_module": "@jupyter-widgets/controls",
            "children": [
              "IPY_MODEL_f195510755a145d0a389f7a1d7cf3143",
              "IPY_MODEL_1cacc86101c540e7aa67bbd4c44f091f"
            ]
          }
        },
        "0cfc68de625c4fd793c26f19147ead1b": {
          "model_module": "@jupyter-widgets/base",
          "model_name": "LayoutModel",
          "state": {
            "_view_name": "LayoutView",
            "grid_template_rows": null,
            "right": null,
            "justify_content": null,
            "_view_module": "@jupyter-widgets/base",
            "overflow": null,
            "_model_module_version": "1.2.0",
            "_view_count": null,
            "flex_flow": null,
            "width": null,
            "min_width": null,
            "border": null,
            "align_items": null,
            "bottom": null,
            "_model_module": "@jupyter-widgets/base",
            "top": null,
            "grid_column": null,
            "overflow_y": null,
            "overflow_x": null,
            "grid_auto_flow": null,
            "grid_area": null,
            "grid_template_columns": null,
            "flex": null,
            "_model_name": "LayoutModel",
            "justify_items": null,
            "grid_row": null,
            "max_height": null,
            "align_content": null,
            "visibility": null,
            "align_self": null,
            "height": null,
            "min_height": null,
            "padding": null,
            "grid_auto_rows": null,
            "grid_gap": null,
            "max_width": null,
            "order": null,
            "_view_module_version": "1.2.0",
            "grid_template_areas": null,
            "object_position": null,
            "object_fit": null,
            "grid_auto_columns": null,
            "margin": null,
            "display": null,
            "left": null
          }
        },
        "f195510755a145d0a389f7a1d7cf3143": {
          "model_module": "@jupyter-widgets/controls",
          "model_name": "FloatProgressModel",
          "state": {
            "_view_name": "ProgressView",
            "style": "IPY_MODEL_d49229f222c64440af7b7c6a38ce18b0",
            "_dom_classes": [],
            "description": "Downloading: 100%",
            "_model_name": "FloatProgressModel",
            "bar_style": "success",
            "max": 442,
            "_view_module": "@jupyter-widgets/controls",
            "_model_module_version": "1.5.0",
            "value": 442,
            "_view_count": null,
            "_view_module_version": "1.5.0",
            "orientation": "horizontal",
            "min": 0,
            "description_tooltip": null,
            "_model_module": "@jupyter-widgets/controls",
            "layout": "IPY_MODEL_13a220937a5941c0899ca75cf83c13e0"
          }
        },
        "1cacc86101c540e7aa67bbd4c44f091f": {
          "model_module": "@jupyter-widgets/controls",
          "model_name": "HTMLModel",
          "state": {
            "_view_name": "HTMLView",
            "style": "IPY_MODEL_c65b1cf89fd545eba2c09ab2b1a9d1a3",
            "_dom_classes": [],
            "description": "",
            "_model_name": "HTMLModel",
            "placeholder": "​",
            "_view_module": "@jupyter-widgets/controls",
            "_model_module_version": "1.5.0",
            "value": " 442/442 [00:00&lt;00:00, 1.53kB/s]",
            "_view_count": null,
            "_view_module_version": "1.5.0",
            "description_tooltip": null,
            "_model_module": "@jupyter-widgets/controls",
            "layout": "IPY_MODEL_8b05bb8463994b418f1b5e70dae26cc1"
          }
        },
        "d49229f222c64440af7b7c6a38ce18b0": {
          "model_module": "@jupyter-widgets/controls",
          "model_name": "ProgressStyleModel",
          "state": {
            "_view_name": "StyleView",
            "_model_name": "ProgressStyleModel",
            "description_width": "initial",
            "_view_module": "@jupyter-widgets/base",
            "_model_module_version": "1.5.0",
            "_view_count": null,
            "_view_module_version": "1.2.0",
            "bar_color": null,
            "_model_module": "@jupyter-widgets/controls"
          }
        },
        "13a220937a5941c0899ca75cf83c13e0": {
          "model_module": "@jupyter-widgets/base",
          "model_name": "LayoutModel",
          "state": {
            "_view_name": "LayoutView",
            "grid_template_rows": null,
            "right": null,
            "justify_content": null,
            "_view_module": "@jupyter-widgets/base",
            "overflow": null,
            "_model_module_version": "1.2.0",
            "_view_count": null,
            "flex_flow": null,
            "width": null,
            "min_width": null,
            "border": null,
            "align_items": null,
            "bottom": null,
            "_model_module": "@jupyter-widgets/base",
            "top": null,
            "grid_column": null,
            "overflow_y": null,
            "overflow_x": null,
            "grid_auto_flow": null,
            "grid_area": null,
            "grid_template_columns": null,
            "flex": null,
            "_model_name": "LayoutModel",
            "justify_items": null,
            "grid_row": null,
            "max_height": null,
            "align_content": null,
            "visibility": null,
            "align_self": null,
            "height": null,
            "min_height": null,
            "padding": null,
            "grid_auto_rows": null,
            "grid_gap": null,
            "max_width": null,
            "order": null,
            "_view_module_version": "1.2.0",
            "grid_template_areas": null,
            "object_position": null,
            "object_fit": null,
            "grid_auto_columns": null,
            "margin": null,
            "display": null,
            "left": null
          }
        },
        "c65b1cf89fd545eba2c09ab2b1a9d1a3": {
          "model_module": "@jupyter-widgets/controls",
          "model_name": "DescriptionStyleModel",
          "state": {
            "_view_name": "StyleView",
            "_model_name": "DescriptionStyleModel",
            "description_width": "",
            "_view_module": "@jupyter-widgets/base",
            "_model_module_version": "1.5.0",
            "_view_count": null,
            "_view_module_version": "1.2.0",
            "_model_module": "@jupyter-widgets/controls"
          }
        },
        "8b05bb8463994b418f1b5e70dae26cc1": {
          "model_module": "@jupyter-widgets/base",
          "model_name": "LayoutModel",
          "state": {
            "_view_name": "LayoutView",
            "grid_template_rows": null,
            "right": null,
            "justify_content": null,
            "_view_module": "@jupyter-widgets/base",
            "overflow": null,
            "_model_module_version": "1.2.0",
            "_view_count": null,
            "flex_flow": null,
            "width": null,
            "min_width": null,
            "border": null,
            "align_items": null,
            "bottom": null,
            "_model_module": "@jupyter-widgets/base",
            "top": null,
            "grid_column": null,
            "overflow_y": null,
            "overflow_x": null,
            "grid_auto_flow": null,
            "grid_area": null,
            "grid_template_columns": null,
            "flex": null,
            "_model_name": "LayoutModel",
            "justify_items": null,
            "grid_row": null,
            "max_height": null,
            "align_content": null,
            "visibility": null,
            "align_self": null,
            "height": null,
            "min_height": null,
            "padding": null,
            "grid_auto_rows": null,
            "grid_gap": null,
            "max_width": null,
            "order": null,
            "_view_module_version": "1.2.0",
            "grid_template_areas": null,
            "object_position": null,
            "object_fit": null,
            "grid_auto_columns": null,
            "margin": null,
            "display": null,
            "left": null
          }
        },
        "385bec001f324c4eba684e23910f5a46": {
          "model_module": "@jupyter-widgets/controls",
          "model_name": "HBoxModel",
          "state": {
            "_view_name": "HBoxView",
            "_dom_classes": [],
            "_model_name": "HBoxModel",
            "_view_module": "@jupyter-widgets/controls",
            "_model_module_version": "1.5.0",
            "_view_count": null,
            "_view_module_version": "1.5.0",
            "box_style": "",
            "layout": "IPY_MODEL_72f62434fb6e4d98ad7ec8297d2ba466",
            "_model_module": "@jupyter-widgets/controls",
            "children": [
              "IPY_MODEL_b361a1a72a69470d8e3eea2568222833",
              "IPY_MODEL_b5639155309e4d4f9fa46779457cb996"
            ]
          }
        },
        "72f62434fb6e4d98ad7ec8297d2ba466": {
          "model_module": "@jupyter-widgets/base",
          "model_name": "LayoutModel",
          "state": {
            "_view_name": "LayoutView",
            "grid_template_rows": null,
            "right": null,
            "justify_content": null,
            "_view_module": "@jupyter-widgets/base",
            "overflow": null,
            "_model_module_version": "1.2.0",
            "_view_count": null,
            "flex_flow": null,
            "width": null,
            "min_width": null,
            "border": null,
            "align_items": null,
            "bottom": null,
            "_model_module": "@jupyter-widgets/base",
            "top": null,
            "grid_column": null,
            "overflow_y": null,
            "overflow_x": null,
            "grid_auto_flow": null,
            "grid_area": null,
            "grid_template_columns": null,
            "flex": null,
            "_model_name": "LayoutModel",
            "justify_items": null,
            "grid_row": null,
            "max_height": null,
            "align_content": null,
            "visibility": null,
            "align_self": null,
            "height": null,
            "min_height": null,
            "padding": null,
            "grid_auto_rows": null,
            "grid_gap": null,
            "max_width": null,
            "order": null,
            "_view_module_version": "1.2.0",
            "grid_template_areas": null,
            "object_position": null,
            "object_fit": null,
            "grid_auto_columns": null,
            "margin": null,
            "display": null,
            "left": null
          }
        },
        "b361a1a72a69470d8e3eea2568222833": {
          "model_module": "@jupyter-widgets/controls",
          "model_name": "FloatProgressModel",
          "state": {
            "_view_name": "ProgressView",
            "style": "IPY_MODEL_19e24f2ad07345ffa4521415b31146eb",
            "_dom_classes": [],
            "description": "Downloading: 100%",
            "_model_name": "FloatProgressModel",
            "bar_style": "success",
            "max": 231508,
            "_view_module": "@jupyter-widgets/controls",
            "_model_module_version": "1.5.0",
            "value": 231508,
            "_view_count": null,
            "_view_module_version": "1.5.0",
            "orientation": "horizontal",
            "min": 0,
            "description_tooltip": null,
            "_model_module": "@jupyter-widgets/controls",
            "layout": "IPY_MODEL_cf288657930f4fe99bb730db3f2616d7"
          }
        },
        "b5639155309e4d4f9fa46779457cb996": {
          "model_module": "@jupyter-widgets/controls",
          "model_name": "HTMLModel",
          "state": {
            "_view_name": "HTMLView",
            "style": "IPY_MODEL_7959405542bd45c6bf2271ddf6778c0c",
            "_dom_classes": [],
            "description": "",
            "_model_name": "HTMLModel",
            "placeholder": "​",
            "_view_module": "@jupyter-widgets/controls",
            "_model_module_version": "1.5.0",
            "value": " 232k/232k [00:00&lt;00:00, 2.48MB/s]",
            "_view_count": null,
            "_view_module_version": "1.5.0",
            "description_tooltip": null,
            "_model_module": "@jupyter-widgets/controls",
            "layout": "IPY_MODEL_0322b60f8cf34ee8aeef372d4b20c7e2"
          }
        },
        "19e24f2ad07345ffa4521415b31146eb": {
          "model_module": "@jupyter-widgets/controls",
          "model_name": "ProgressStyleModel",
          "state": {
            "_view_name": "StyleView",
            "_model_name": "ProgressStyleModel",
            "description_width": "initial",
            "_view_module": "@jupyter-widgets/base",
            "_model_module_version": "1.5.0",
            "_view_count": null,
            "_view_module_version": "1.2.0",
            "bar_color": null,
            "_model_module": "@jupyter-widgets/controls"
          }
        },
        "cf288657930f4fe99bb730db3f2616d7": {
          "model_module": "@jupyter-widgets/base",
          "model_name": "LayoutModel",
          "state": {
            "_view_name": "LayoutView",
            "grid_template_rows": null,
            "right": null,
            "justify_content": null,
            "_view_module": "@jupyter-widgets/base",
            "overflow": null,
            "_model_module_version": "1.2.0",
            "_view_count": null,
            "flex_flow": null,
            "width": null,
            "min_width": null,
            "border": null,
            "align_items": null,
            "bottom": null,
            "_model_module": "@jupyter-widgets/base",
            "top": null,
            "grid_column": null,
            "overflow_y": null,
            "overflow_x": null,
            "grid_auto_flow": null,
            "grid_area": null,
            "grid_template_columns": null,
            "flex": null,
            "_model_name": "LayoutModel",
            "justify_items": null,
            "grid_row": null,
            "max_height": null,
            "align_content": null,
            "visibility": null,
            "align_self": null,
            "height": null,
            "min_height": null,
            "padding": null,
            "grid_auto_rows": null,
            "grid_gap": null,
            "max_width": null,
            "order": null,
            "_view_module_version": "1.2.0",
            "grid_template_areas": null,
            "object_position": null,
            "object_fit": null,
            "grid_auto_columns": null,
            "margin": null,
            "display": null,
            "left": null
          }
        },
        "7959405542bd45c6bf2271ddf6778c0c": {
          "model_module": "@jupyter-widgets/controls",
          "model_name": "DescriptionStyleModel",
          "state": {
            "_view_name": "StyleView",
            "_model_name": "DescriptionStyleModel",
            "description_width": "",
            "_view_module": "@jupyter-widgets/base",
            "_model_module_version": "1.5.0",
            "_view_count": null,
            "_view_module_version": "1.2.0",
            "_model_module": "@jupyter-widgets/controls"
          }
        },
        "0322b60f8cf34ee8aeef372d4b20c7e2": {
          "model_module": "@jupyter-widgets/base",
          "model_name": "LayoutModel",
          "state": {
            "_view_name": "LayoutView",
            "grid_template_rows": null,
            "right": null,
            "justify_content": null,
            "_view_module": "@jupyter-widgets/base",
            "overflow": null,
            "_model_module_version": "1.2.0",
            "_view_count": null,
            "flex_flow": null,
            "width": null,
            "min_width": null,
            "border": null,
            "align_items": null,
            "bottom": null,
            "_model_module": "@jupyter-widgets/base",
            "top": null,
            "grid_column": null,
            "overflow_y": null,
            "overflow_x": null,
            "grid_auto_flow": null,
            "grid_area": null,
            "grid_template_columns": null,
            "flex": null,
            "_model_name": "LayoutModel",
            "justify_items": null,
            "grid_row": null,
            "max_height": null,
            "align_content": null,
            "visibility": null,
            "align_self": null,
            "height": null,
            "min_height": null,
            "padding": null,
            "grid_auto_rows": null,
            "grid_gap": null,
            "max_width": null,
            "order": null,
            "_view_module_version": "1.2.0",
            "grid_template_areas": null,
            "object_position": null,
            "object_fit": null,
            "grid_auto_columns": null,
            "margin": null,
            "display": null,
            "left": null
          }
        }
      }
    }
  },
  "cells": [
    {
      "cell_type": "code",
      "metadata": {
        "id": "24_81kQ6UsPC",
        "outputId": "7b1e4c79-1448-4d32-bf9e-90018c22446e",
        "colab": {
          "base_uri": "https://localhost:8080/",
          "height": 87
        }
      },
      "source": [
        "!pip install GetOldTweets3"
      ],
      "execution_count": null,
      "outputs": [
        {
          "output_type": "stream",
          "text": [
            "Requirement already satisfied: GetOldTweets3 in /usr/local/lib/python3.6/dist-packages (0.0.11)\n",
            "Requirement already satisfied: pyquery>=1.2.10 in /usr/local/lib/python3.6/dist-packages (from GetOldTweets3) (1.4.1)\n",
            "Requirement already satisfied: lxml>=3.5.0 in /usr/local/lib/python3.6/dist-packages (from GetOldTweets3) (4.2.6)\n",
            "Requirement already satisfied: cssselect>0.7.9 in /usr/local/lib/python3.6/dist-packages (from pyquery>=1.2.10->GetOldTweets3) (1.1.0)\n"
          ],
          "name": "stdout"
        }
      ]
    },
    {
      "cell_type": "code",
      "metadata": {
        "id": "Nna5K8BqVLxy"
      },
      "source": [
        "import GetOldTweets3 as got3\n",
        "import GetOldTweets3\n",
        "import csv\n",
        "import pandas as pd\n",
        "import matplotlib.pyplot as plt\n",
        "import numpy as np\n",
        "import re\n",
        "import tensorflow as tf\n",
        "import time"
      ],
      "execution_count": null,
      "outputs": []
    },
    {
      "cell_type": "markdown",
      "metadata": {
        "id": "YJBvUpJ9MW9H"
      },
      "source": [
        "# **GetOldTweets3 Exploration**"
      ]
    },
    {
      "cell_type": "code",
      "metadata": {
        "id": "M5L_W4hlWgux"
      },
      "source": [
        "import GetOldTweets3 as got\n",
        "\n",
        "\n",
        "usernames = ['joebiden', 'realdonaldtrump']\n",
        "keyword = 'donald'\n",
        "def download_tweets(username, keyword):\n",
        "    #print(f\"Downloading for {username}, {keyword}\")\n",
        "    tweetCriteria = got.manager.TweetCriteria().setUsername(username)\\\n",
        "                                               .setQuerySearch(keyword)\\\n",
        "                                               .setMaxTweets(100)\\\n",
        "                                               .setSince(\"2019-01-01\")\\\n",
        "                                               .setUntil(\"2019-06-01\")\\\n",
        "                                               #.setLang(language)\n",
        "\n",
        "    tweets = got.manager.TweetManager.getTweets(tweetCriteria)\n",
        "    df = pd.DataFrame([tweet.__dict__ for tweet in tweets])\n",
        "    #print(df.shape)\n",
        "    df.to_csv(f\"/content/drive/My Drive/tests/tweets{username}{keyword}.csv\", index=False)\n",
        "    \n",
        "for username in usernames:\n",
        "    download_tweets(username, keyword)"
      ],
      "execution_count": null,
      "outputs": []
    },
    {
      "cell_type": "markdown",
      "metadata": {
        "id": "tcYG7zRN-bap"
      },
      "source": [
        "# **Structured data exploration**"
      ]
    },
    {
      "cell_type": "code",
      "metadata": {
        "id": "pYsXRBW44u5V",
        "outputId": "c9469e61-b8d3-4482-dd60-25c9d6063ee9",
        "colab": {
          "base_uri": "https://localhost:8080/",
          "height": 364
        }
      },
      "source": [
        "data = pd.read_csv('tweets_on_ms.csv')\n",
        "data.head()"
      ],
      "execution_count": null,
      "outputs": [
        {
          "output_type": "execute_result",
          "data": {
            "text/html": [
              "<div>\n",
              "<style scoped>\n",
              "    .dataframe tbody tr th:only-of-type {\n",
              "        vertical-align: middle;\n",
              "    }\n",
              "\n",
              "    .dataframe tbody tr th {\n",
              "        vertical-align: top;\n",
              "    }\n",
              "\n",
              "    .dataframe thead th {\n",
              "        text-align: right;\n",
              "    }\n",
              "</style>\n",
              "<table border=\"1\" class=\"dataframe\">\n",
              "  <thead>\n",
              "    <tr style=\"text-align: right;\">\n",
              "      <th></th>\n",
              "      <th>date</th>\n",
              "      <th>username</th>\n",
              "      <th>to</th>\n",
              "      <th>replies</th>\n",
              "      <th>retweets</th>\n",
              "      <th>favorites</th>\n",
              "      <th>text</th>\n",
              "      <th>geo</th>\n",
              "      <th>mentions</th>\n",
              "      <th>hashtags</th>\n",
              "      <th>id</th>\n",
              "      <th>permalink</th>\n",
              "    </tr>\n",
              "  </thead>\n",
              "  <tbody>\n",
              "    <tr>\n",
              "      <th>0</th>\n",
              "      <td>2020-03-25 23:56:40</td>\n",
              "      <td>TrplCrownChaser</td>\n",
              "      <td>MorganStanley</td>\n",
              "      <td>0</td>\n",
              "      <td>0</td>\n",
              "      <td>0</td>\n",
              "      <td>@MorganStanley you might want to quit promotin...</td>\n",
              "      <td>NaN</td>\n",
              "      <td>@MorganStanley</td>\n",
              "      <td>NaN</td>\n",
              "      <td>1242963642410323971</td>\n",
              "      <td>https://twitter.com/TrplCrownChaser/status/124...</td>\n",
              "    </tr>\n",
              "    <tr>\n",
              "      <th>1</th>\n",
              "      <td>2020-03-25 23:23:05</td>\n",
              "      <td>qslzpidbenams</td>\n",
              "      <td>NaN</td>\n",
              "      <td>1</td>\n",
              "      <td>0</td>\n",
              "      <td>0</td>\n",
              "      <td>Of course, in the end, be wary of the Chinese ...</td>\n",
              "      <td>NaN</td>\n",
              "      <td>NaN</td>\n",
              "      <td>NaN</td>\n",
              "      <td>1242955191286149125</td>\n",
              "      <td>https://twitter.com/qslzpidbenams/status/12429...</td>\n",
              "    </tr>\n",
              "    <tr>\n",
              "      <th>2</th>\n",
              "      <td>2020-03-25 23:21:04</td>\n",
              "      <td>qslzpidbenams</td>\n",
              "      <td>NaN</td>\n",
              "      <td>1</td>\n",
              "      <td>0</td>\n",
              "      <td>0</td>\n",
              "      <td>Then, continue to decouple. If you don't know ...</td>\n",
              "      <td>NaN</td>\n",
              "      <td>NaN</td>\n",
              "      <td>NaN</td>\n",
              "      <td>1242954682751950850</td>\n",
              "      <td>https://twitter.com/qslzpidbenams/status/12429...</td>\n",
              "    </tr>\n",
              "    <tr>\n",
              "      <th>3</th>\n",
              "      <td>2020-03-25 23:19:19</td>\n",
              "      <td>qslzpidbenams</td>\n",
              "      <td>NaN</td>\n",
              "      <td>1</td>\n",
              "      <td>0</td>\n",
              "      <td>0</td>\n",
              "      <td>Now, the CCP's internal factions are making so...</td>\n",
              "      <td>NaN</td>\n",
              "      <td>NaN</td>\n",
              "      <td>NaN</td>\n",
              "      <td>1242954244816351234</td>\n",
              "      <td>https://twitter.com/qslzpidbenams/status/12429...</td>\n",
              "    </tr>\n",
              "    <tr>\n",
              "      <th>4</th>\n",
              "      <td>2020-03-25 23:19:13</td>\n",
              "      <td>HerbChap_</td>\n",
              "      <td>Bloch_R</td>\n",
              "      <td>0</td>\n",
              "      <td>0</td>\n",
              "      <td>0</td>\n",
              "      <td>NaN</td>\n",
              "      <td>NaN</td>\n",
              "      <td>NaN</td>\n",
              "      <td>NaN</td>\n",
              "      <td>1242954220241903618</td>\n",
              "      <td>https://twitter.com/HerbChap_/status/124295422...</td>\n",
              "    </tr>\n",
              "  </tbody>\n",
              "</table>\n",
              "</div>"
            ],
            "text/plain": [
              "                  date  ...                                          permalink\n",
              "0  2020-03-25 23:56:40  ...  https://twitter.com/TrplCrownChaser/status/124...\n",
              "1  2020-03-25 23:23:05  ...  https://twitter.com/qslzpidbenams/status/12429...\n",
              "2  2020-03-25 23:21:04  ...  https://twitter.com/qslzpidbenams/status/12429...\n",
              "3  2020-03-25 23:19:19  ...  https://twitter.com/qslzpidbenams/status/12429...\n",
              "4  2020-03-25 23:19:13  ...  https://twitter.com/HerbChap_/status/124295422...\n",
              "\n",
              "[5 rows x 12 columns]"
            ]
          },
          "metadata": {
            "tags": []
          },
          "execution_count": 17
        }
      ]
    },
    {
      "cell_type": "code",
      "metadata": {
        "id": "vxa4Z8lv5esW",
        "outputId": "2552602a-a7ab-4387-e192-119a0de12122",
        "colab": {
          "base_uri": "https://localhost:8080/",
          "height": 347
        }
      },
      "source": [
        "unique_hashtags_values = pd.value_counts(data['hashtags'])\n",
        "unique_hashtags_df = pd.DataFrame({'hashtag' :unique_hashtags_values.index, 'number' : unique_hashtags_values.values }, index = np.arange(unique_hashtags_values.shape[0]))\n",
        "unique_hashtags_df.head(10)"
      ],
      "execution_count": null,
      "outputs": [
        {
          "output_type": "execute_result",
          "data": {
            "text/html": [
              "<div>\n",
              "<style scoped>\n",
              "    .dataframe tbody tr th:only-of-type {\n",
              "        vertical-align: middle;\n",
              "    }\n",
              "\n",
              "    .dataframe tbody tr th {\n",
              "        vertical-align: top;\n",
              "    }\n",
              "\n",
              "    .dataframe thead th {\n",
              "        text-align: right;\n",
              "    }\n",
              "</style>\n",
              "<table border=\"1\" class=\"dataframe\">\n",
              "  <thead>\n",
              "    <tr style=\"text-align: right;\">\n",
              "      <th></th>\n",
              "      <th>hashtag</th>\n",
              "      <th>number</th>\n",
              "    </tr>\n",
              "  </thead>\n",
              "  <tbody>\n",
              "    <tr>\n",
              "      <th>0</th>\n",
              "      <td>#ProtectTheArctic</td>\n",
              "      <td>342</td>\n",
              "    </tr>\n",
              "    <tr>\n",
              "      <th>1</th>\n",
              "      <td>#MorganStanley</td>\n",
              "      <td>103</td>\n",
              "    </tr>\n",
              "    <tr>\n",
              "      <th>2</th>\n",
              "      <td>#MorganStanley #stockmarket #stock #technicala...</td>\n",
              "      <td>89</td>\n",
              "    </tr>\n",
              "    <tr>\n",
              "      <th>3</th>\n",
              "      <td>#ALERT</td>\n",
              "      <td>50</td>\n",
              "    </tr>\n",
              "    <tr>\n",
              "      <th>4</th>\n",
              "      <td>#BrokerageRadar</td>\n",
              "      <td>44</td>\n",
              "    </tr>\n",
              "    <tr>\n",
              "      <th>5</th>\n",
              "      <td>#DMGalaAwardsFeb2020</td>\n",
              "      <td>33</td>\n",
              "    </tr>\n",
              "    <tr>\n",
              "      <th>6</th>\n",
              "      <td>#coronavirus</td>\n",
              "      <td>33</td>\n",
              "    </tr>\n",
              "    <tr>\n",
              "      <th>7</th>\n",
              "      <td>#iFunny</td>\n",
              "      <td>29</td>\n",
              "    </tr>\n",
              "    <tr>\n",
              "      <th>8</th>\n",
              "      <td>#Kashmiris #KashmirReferendum</td>\n",
              "      <td>28</td>\n",
              "    </tr>\n",
              "    <tr>\n",
              "      <th>9</th>\n",
              "      <td>#NEWS #ALERT #PROJECT #NEWS #PENDING</td>\n",
              "      <td>25</td>\n",
              "    </tr>\n",
              "  </tbody>\n",
              "</table>\n",
              "</div>"
            ],
            "text/plain": [
              "                                             hashtag  number\n",
              "0                                  #ProtectTheArctic     342\n",
              "1                                     #MorganStanley     103\n",
              "2  #MorganStanley #stockmarket #stock #technicala...      89\n",
              "3                                             #ALERT      50\n",
              "4                                    #BrokerageRadar      44\n",
              "5                               #DMGalaAwardsFeb2020      33\n",
              "6                                       #coronavirus      33\n",
              "7                                            #iFunny      29\n",
              "8                      #Kashmiris #KashmirReferendum      28\n",
              "9               #NEWS #ALERT #PROJECT #NEWS #PENDING      25"
            ]
          },
          "metadata": {
            "tags": []
          },
          "execution_count": 18
        }
      ]
    },
    {
      "cell_type": "code",
      "metadata": {
        "id": "tbBbNNQx6BhL",
        "outputId": "96951bf8-bafb-4cde-a86b-0785cbeeeff8",
        "colab": {
          "base_uri": "https://localhost:8080/",
          "height": 347
        }
      },
      "source": [
        "unique_users_values = pd.value_counts(data['username'])\n",
        "unique_users_df = pd.DataFrame({'user' :unique_users_values.index, 'number' : unique_users_values.values }, index = np.arange(unique_users_values.shape[0]))\n",
        "unique_users_df.head(10)"
      ],
      "execution_count": null,
      "outputs": [
        {
          "output_type": "execute_result",
          "data": {
            "text/html": [
              "<div>\n",
              "<style scoped>\n",
              "    .dataframe tbody tr th:only-of-type {\n",
              "        vertical-align: middle;\n",
              "    }\n",
              "\n",
              "    .dataframe tbody tr th {\n",
              "        vertical-align: top;\n",
              "    }\n",
              "\n",
              "    .dataframe thead th {\n",
              "        text-align: right;\n",
              "    }\n",
              "</style>\n",
              "<table border=\"1\" class=\"dataframe\">\n",
              "  <thead>\n",
              "    <tr style=\"text-align: right;\">\n",
              "      <th></th>\n",
              "      <th>user</th>\n",
              "      <th>number</th>\n",
              "    </tr>\n",
              "  </thead>\n",
              "  <tbody>\n",
              "    <tr>\n",
              "      <th>0</th>\n",
              "      <td>Chrisgebb</td>\n",
              "      <td>869</td>\n",
              "    </tr>\n",
              "    <tr>\n",
              "      <th>1</th>\n",
              "      <td>infoguy411</td>\n",
              "      <td>542</td>\n",
              "    </tr>\n",
              "    <tr>\n",
              "      <th>2</th>\n",
              "      <td>qslzpidbenams</td>\n",
              "      <td>526</td>\n",
              "    </tr>\n",
              "    <tr>\n",
              "      <th>3</th>\n",
              "      <td>kuma_meow</td>\n",
              "      <td>384</td>\n",
              "    </tr>\n",
              "    <tr>\n",
              "      <th>4</th>\n",
              "      <td>MorganStanley</td>\n",
              "      <td>287</td>\n",
              "    </tr>\n",
              "    <tr>\n",
              "      <th>5</th>\n",
              "      <td>daviddo43706820</td>\n",
              "      <td>182</td>\n",
              "    </tr>\n",
              "    <tr>\n",
              "      <th>6</th>\n",
              "      <td>consensomercado</td>\n",
              "      <td>123</td>\n",
              "    </tr>\n",
              "    <tr>\n",
              "      <th>7</th>\n",
              "      <td>acemaxx</td>\n",
              "      <td>114</td>\n",
              "    </tr>\n",
              "    <tr>\n",
              "      <th>8</th>\n",
              "      <td>Tickeron</td>\n",
              "      <td>89</td>\n",
              "    </tr>\n",
              "    <tr>\n",
              "      <th>9</th>\n",
              "      <td>TweeterTrash</td>\n",
              "      <td>85</td>\n",
              "    </tr>\n",
              "  </tbody>\n",
              "</table>\n",
              "</div>"
            ],
            "text/plain": [
              "              user  number\n",
              "0        Chrisgebb     869\n",
              "1       infoguy411     542\n",
              "2    qslzpidbenams     526\n",
              "3        kuma_meow     384\n",
              "4    MorganStanley     287\n",
              "5  daviddo43706820     182\n",
              "6  consensomercado     123\n",
              "7          acemaxx     114\n",
              "8         Tickeron      89\n",
              "9     TweeterTrash      85"
            ]
          },
          "metadata": {
            "tags": []
          },
          "execution_count": 17
        }
      ]
    },
    {
      "cell_type": "code",
      "metadata": {
        "id": "YKUboz1B9VjP",
        "outputId": "2e8a844b-d6c3-4365-d550-cc9c2f6146e2",
        "colab": {
          "base_uri": "https://localhost:8080/",
          "height": 606
        }
      },
      "source": [
        "plt.figure(figsize = (16,10))\n",
        "plt.subplot(2,2,1)\n",
        "plt.hist(np.log(1+ data['retweets']))\n",
        "plt.title('Number of retweets distribution')\n",
        "plt.subplot(2,2,2)\n",
        "plt.hist(np.log(1+ data['favorites']))\n",
        "plt.title('Number of favorites distribution')\n",
        "plt.subplot(2,2,3)\n",
        "plt.hist(np.log(1+unique_hashtags_df['number']))\n",
        "plt.title('Unique hashtags distribution')\n",
        "plt.subplot(2,2,4)\n",
        "plt.hist(np.log(1+unique_users_df['number']))\n",
        "plt.title('Unique users distribution')\n",
        "plt.show()"
      ],
      "execution_count": null,
      "outputs": [
        {
          "output_type": "display_data",
          "data": {
            "image/png": "[encoded data removed]",
            "text/plain": [
              "<Figure size 1152x720 with 4 Axes>"
            ]
          },
          "metadata": {
            "tags": [],
            "needs_background": "light"
          }
        }
      ]
    },
    {
      "cell_type": "code",
      "metadata": {
        "id": "rB-XD8TME6Cx",
        "outputId": "42214059-dae9-4059-ff4e-99c3c03bc71a",
        "colab": {
          "base_uri": "https://localhost:8080/",
          "height": 107
        }
      },
      "source": [
        "tweets = data['text'].dropna().values\n",
        "tweets[:3]"
      ],
      "execution_count": null,
      "outputs": [
        {
          "output_type": "execute_result",
          "data": {
            "text/plain": [
              "array(['@MorganStanley you might want to quit promoting REALLY OLD GUIDANCE that’s worthless in the last two weeks.',\n",
              "       \"Of course, in the end, be wary of the Chinese Communist Party and Chinese scammers. Don't believe them. Decoupling will make CCP and China attack each other.\",\n",
              "       \"Then, continue to decouple. If you don't know the CCP's various trick, you must be very careful about their false goodwill. Also, it is best to strictly check various medical products from China. The quality of these goods is not guaranteed!\"],\n",
              "      dtype=object)"
            ]
          },
          "metadata": {
            "tags": []
          },
          "execution_count": 20
        }
      ]
    },
    {
      "cell_type": "code",
      "metadata": {
        "id": "toGBNlkcE9DE"
      },
      "source": [
        "def preprocess(s) :\n",
        "  s = re.sub(r\"[@]+\", \"\", s).strip() # remove @\n",
        "  s = re.sub('#', '', s) #remove #\n",
        "  s = re.sub('RT[\\s]+', '', s) #remove RT\n",
        "  return s\n"
      ],
      "execution_count": null,
      "outputs": []
    },
    {
      "cell_type": "code",
      "metadata": {
        "id": "paq5Zb5YHAEI",
        "outputId": "b1436108-f808-4db1-eeba-f717ea6f3414",
        "colab": {
          "base_uri": "https://localhost:8080/",
          "height": 90
        }
      },
      "source": [
        "tweets_preprocessed = []\n",
        "for i in range(len(tweets)):\n",
        "   tweets_preprocessed.append(preprocess(tweets[i]))\n",
        "   \n",
        "tweets_preprocessed[:3]"
      ],
      "execution_count": null,
      "outputs": [
        {
          "output_type": "execute_result",
          "data": {
            "text/plain": [
              "['MorganStanley you might want to quit promoting REALLY OLD GUIDANCE that’s worthless in the last two weeks.',\n",
              " \"Of course, in the end, be wary of the Chinese Communist Party and Chinese scammers. Don't believe them. Decoupling will make CCP and China attack each other.\",\n",
              " \"Then, continue to decouple. If you don't know the CCP's various trick, you must be very careful about their false goodwill. Also, it is best to strictly check various medical products from China. The quality of these goods is not guaranteed!\"]"
            ]
          },
          "metadata": {
            "tags": []
          },
          "execution_count": 23
        }
      ]
    },
    {
      "cell_type": "markdown",
      "metadata": {
        "id": "_mb6VunfePSs"
      },
      "source": [
        "# **1. Sentiment analysis using pretrained models on raw data**"
      ]
    },
    {
      "cell_type": "markdown",
      "metadata": {
        "id": "qCwreBcjeThu"
      },
      "source": [
        "## **1.1 Vader from NLKT**"
      ]
    },
    {
      "cell_type": "code",
      "metadata": {
        "id": "jxy-maqHLEPr",
        "outputId": "6ccb6dd1-ea53-416c-f443-69c6fe4f3ade",
        "colab": {
          "base_uri": "https://localhost:8080/",
          "height": 52
        }
      },
      "source": [
        "# pretrained sentiment analysis\n",
        "\n",
        "import nltk\n",
        "nltk.download('vader_lexicon')\n",
        "from nltk.sentiment.vader import SentimentIntensityAnalyzer"
      ],
      "execution_count": null,
      "outputs": [
        {
          "output_type": "stream",
          "text": [
            "[nltk_data] Downloading package vader_lexicon to /root/nltk_data...\n",
            "[nltk_data]   Package vader_lexicon is already up-to-date!\n"
          ],
          "name": "stdout"
        }
      ]
    },
    {
      "cell_type": "code",
      "metadata": {
        "id": "Knxcym6cL5QF"
      },
      "source": [
        "sid = SentimentIntensityAnalyzer()"
      ],
      "execution_count": null,
      "outputs": []
    },
    {
      "cell_type": "code",
      "metadata": {
        "id": "ID5RHPzEL5VB",
        "outputId": "d5e45a34-d73d-417d-e52d-0a903150a53c",
        "colab": {
          "base_uri": "https://localhost:8080/",
          "height": 52
        }
      },
      "source": [
        "start = time.time()\n",
        "\n",
        "summary = {\"positive\":0,\"neutral\":0,\"negative\":0}\n",
        "scores_vader = []\n",
        "\n",
        "for x in tweets_preprocessed: \n",
        "    score = sid.polarity_scores(x)\n",
        "    scores_vader.append(score)\n",
        "    if score[\"compound\"] > 0.1:\n",
        "        summary[\"positive\"] +=1\n",
        "    elif score[\"compound\"] < -0.1:\n",
        "        summary[\"negative\"] +=1\n",
        "    else : \n",
        "      summary['neutral'] +=1\n",
        "\n",
        "print('Time taken to classify 10,000 tweets : {} sec\\n'.format(time.time() - start))\n"
      ],
      "execution_count": null,
      "outputs": [
        {
          "output_type": "stream",
          "text": [
            "Time taken to classify 10,000 tweets : 2.7951695919036865 sec\n",
            "\n"
          ],
          "name": "stdout"
        }
      ]
    },
    {
      "cell_type": "code",
      "metadata": {
        "id": "QSaYNRXbL5YH",
        "outputId": "1958e33e-c172-4bd4-9e81-7d6aa0105d6e",
        "colab": {
          "base_uri": "https://localhost:8080/",
          "height": 34
        }
      },
      "source": [
        "print(summary)\n",
        "s = [summary['negative'], summary['neutral'],summary['positive']]"
      ],
      "execution_count": null,
      "outputs": [
        {
          "output_type": "execute_result",
          "data": {
            "text/plain": [
              "{'negative': 2308, 'neutral': 3366, 'positive': 4120}"
            ]
          },
          "metadata": {
            "tags": []
          },
          "execution_count": 203
        }
      ]
    },
    {
      "cell_type": "code",
      "metadata": {
        "id": "fGh1iSaxL5S7",
        "outputId": "89e6f20a-3d57-452a-93f0-80b09832be76",
        "colab": {
          "base_uri": "https://localhost:8080/",
          "height": 265
        }
      },
      "source": [
        "plt.pie(s, labels = ['positive', 'neutral', 'negative'])\n",
        "plt.show"
      ],
      "execution_count": null,
      "outputs": [
        {
          "output_type": "execute_result",
          "data": {
            "text/plain": [
              "<function matplotlib.pyplot.show>"
            ]
          },
          "metadata": {
            "tags": []
          },
          "execution_count": 205
        },
        {
          "output_type": "display_data",
          "data": {
            "image/png": "[encoded data removed]",
            "text/plain": [
              "<Figure size 432x288 with 1 Axes>"
            ]
          },
          "metadata": {
            "tags": []
          }
        }
      ]
    },
    {
      "cell_type": "code",
      "metadata": {
        "id": "Cov2_5rVc7pS",
        "outputId": "6c7195f9-9ef8-462b-d012-a87aa1cd906b",
        "colab": {
          "base_uri": "https://localhost:8080/",
          "height": 194
        }
      },
      "source": [
        "scores_vader[:10]"
      ],
      "execution_count": null,
      "outputs": [
        {
          "output_type": "execute_result",
          "data": {
            "text/plain": [
              "[{'compound': -0.0258, 'neg': 0.14, 'neu': 0.676, 'pos': 0.184},\n",
              " {'compound': -0.1027, 'neg': 0.101, 'neu': 0.812, 'pos': 0.088},\n",
              " {'compound': 0.7339, 'neg': 0.026, 'neu': 0.834, 'pos': 0.14},\n",
              " {'compound': -0.1027, 'neg': 0.137, 'neu': 0.753, 'pos': 0.11},\n",
              " {'compound': 0.0, 'neg': 0.0, 'neu': 1.0, 'pos': 0.0},\n",
              " {'compound': 0.5574, 'neg': 0.0, 'neu': 0.685, 'pos': 0.315},\n",
              " {'compound': 0.0, 'neg': 0.0, 'neu': 1.0, 'pos': 0.0},\n",
              " {'compound': -0.6908, 'neg': 0.241, 'neu': 0.759, 'pos': 0.0},\n",
              " {'compound': 0.7297, 'neg': 0.076, 'neu': 0.704, 'pos': 0.22},\n",
              " {'compound': 0.2951, 'neg': 0.154, 'neu': 0.669, 'pos': 0.177}]"
            ]
          },
          "metadata": {
            "tags": []
          },
          "execution_count": 199
        }
      ]
    },
    {
      "cell_type": "code",
      "metadata": {
        "id": "OBQu2pZMdmiK",
        "outputId": "ee8ccbf4-211e-4ae0-eae5-d85a49eefb13",
        "colab": {
          "base_uri": "https://localhost:8080/",
          "height": 287
        }
      },
      "source": [
        "scores_vader_df = pd.DataFrame(scores_vader)\n",
        "scores_vader_df.head(8)"
      ],
      "execution_count": null,
      "outputs": [
        {
          "output_type": "execute_result",
          "data": {
            "text/html": [
              "<div>\n",
              "<style scoped>\n",
              "    .dataframe tbody tr th:only-of-type {\n",
              "        vertical-align: middle;\n",
              "    }\n",
              "\n",
              "    .dataframe tbody tr th {\n",
              "        vertical-align: top;\n",
              "    }\n",
              "\n",
              "    .dataframe thead th {\n",
              "        text-align: right;\n",
              "    }\n",
              "</style>\n",
              "<table border=\"1\" class=\"dataframe\">\n",
              "  <thead>\n",
              "    <tr style=\"text-align: right;\">\n",
              "      <th></th>\n",
              "      <th>neg</th>\n",
              "      <th>neu</th>\n",
              "      <th>pos</th>\n",
              "      <th>compound</th>\n",
              "    </tr>\n",
              "  </thead>\n",
              "  <tbody>\n",
              "    <tr>\n",
              "      <th>0</th>\n",
              "      <td>0.140</td>\n",
              "      <td>0.676</td>\n",
              "      <td>0.184</td>\n",
              "      <td>-0.0258</td>\n",
              "    </tr>\n",
              "    <tr>\n",
              "      <th>1</th>\n",
              "      <td>0.101</td>\n",
              "      <td>0.812</td>\n",
              "      <td>0.088</td>\n",
              "      <td>-0.1027</td>\n",
              "    </tr>\n",
              "    <tr>\n",
              "      <th>2</th>\n",
              "      <td>0.026</td>\n",
              "      <td>0.834</td>\n",
              "      <td>0.140</td>\n",
              "      <td>0.7339</td>\n",
              "    </tr>\n",
              "    <tr>\n",
              "      <th>3</th>\n",
              "      <td>0.137</td>\n",
              "      <td>0.753</td>\n",
              "      <td>0.110</td>\n",
              "      <td>-0.1027</td>\n",
              "    </tr>\n",
              "    <tr>\n",
              "      <th>4</th>\n",
              "      <td>0.000</td>\n",
              "      <td>1.000</td>\n",
              "      <td>0.000</td>\n",
              "      <td>0.0000</td>\n",
              "    </tr>\n",
              "    <tr>\n",
              "      <th>5</th>\n",
              "      <td>0.000</td>\n",
              "      <td>0.685</td>\n",
              "      <td>0.315</td>\n",
              "      <td>0.5574</td>\n",
              "    </tr>\n",
              "    <tr>\n",
              "      <th>6</th>\n",
              "      <td>0.000</td>\n",
              "      <td>1.000</td>\n",
              "      <td>0.000</td>\n",
              "      <td>0.0000</td>\n",
              "    </tr>\n",
              "    <tr>\n",
              "      <th>7</th>\n",
              "      <td>0.241</td>\n",
              "      <td>0.759</td>\n",
              "      <td>0.000</td>\n",
              "      <td>-0.6908</td>\n",
              "    </tr>\n",
              "  </tbody>\n",
              "</table>\n",
              "</div>"
            ],
            "text/plain": [
              "     neg    neu    pos  compound\n",
              "0  0.140  0.676  0.184   -0.0258\n",
              "1  0.101  0.812  0.088   -0.1027\n",
              "2  0.026  0.834  0.140    0.7339\n",
              "3  0.137  0.753  0.110   -0.1027\n",
              "4  0.000  1.000  0.000    0.0000\n",
              "5  0.000  0.685  0.315    0.5574\n",
              "6  0.000  1.000  0.000    0.0000\n",
              "7  0.241  0.759  0.000   -0.6908"
            ]
          },
          "metadata": {
            "tags": []
          },
          "execution_count": 201
        }
      ]
    },
    {
      "cell_type": "code",
      "metadata": {
        "id": "djd8q6VMdnux",
        "outputId": "19386646-edbf-463c-964e-c51b815d9785",
        "colab": {
          "base_uri": "https://localhost:8080/",
          "height": 264
        }
      },
      "source": [
        "plt.hist(scores_vader_df['compound'])\n",
        "plt.show()"
      ],
      "execution_count": null,
      "outputs": [
        {
          "output_type": "display_data",
          "data": {
            "image/png": "[encoded data removed]",
            "text/plain": [
              "<Figure size 432x288 with 1 Axes>"
            ]
          },
          "metadata": {
            "tags": [],
            "needs_background": "light"
          }
        }
      ]
    },
    {
      "cell_type": "markdown",
      "metadata": {
        "id": "iNEVc0mp--U4"
      },
      "source": [
        "## **1.2 TextBlob**\n",
        "\n",
        "The sentiment property returns a namedtuple of the form **Sentiment(polarity, subjectivity)**. The polarity score is a float within the range [-1.0, 1.0]. The subjectivity is a float within the range [0.0, 1.0] where 0.0 is very objective and 1.0 is very subjective.\n",
        "\n"
      ]
    },
    {
      "cell_type": "code",
      "metadata": {
        "id": "BbLg6Rs2--ri",
        "outputId": "74ac15fc-75bb-4fda-c3cd-c99704e991ab",
        "colab": {
          "base_uri": "https://localhost:8080/",
          "height": 70
        }
      },
      "source": [
        "!pip install textblob"
      ],
      "execution_count": null,
      "outputs": [
        {
          "output_type": "stream",
          "text": [
            "Requirement already satisfied: textblob in /usr/local/lib/python3.6/dist-packages (0.15.3)\n",
            "Requirement already satisfied: nltk>=3.1 in /usr/local/lib/python3.6/dist-packages (from textblob) (3.2.5)\n",
            "Requirement already satisfied: six in /usr/local/lib/python3.6/dist-packages (from nltk>=3.1->textblob) (1.12.0)\n"
          ],
          "name": "stdout"
        }
      ]
    },
    {
      "cell_type": "code",
      "metadata": {
        "id": "OSXlyfzz--pj"
      },
      "source": [
        "from textblob import TextBlob"
      ],
      "execution_count": null,
      "outputs": []
    },
    {
      "cell_type": "code",
      "metadata": {
        "id": "dUPuHt_d--no"
      },
      "source": [
        "textblob_df = pd.DataFrame(data = {'Tweet' : tweets_preprocessed})"
      ],
      "execution_count": null,
      "outputs": []
    },
    {
      "cell_type": "code",
      "metadata": {
        "id": "QJpyYUpH--j1",
        "outputId": "1cf2808c-74c3-485c-9ade-c54acbb57864",
        "colab": {
          "base_uri": "https://localhost:8080/",
          "height": 34
        }
      },
      "source": [
        "def TextBlob_Analaysis(tweet) : \n",
        "  subjectivity = TextBlob(tweet).sentiment.subjectivity\n",
        "  polarity = TextBlob(tweet).sentiment.polarity\n",
        "  return subjectivity, polarity\n",
        "\n",
        "TextBlob_Analaysis(tweets_preprocessed[0])"
      ],
      "execution_count": null,
      "outputs": [
        {
          "output_type": "execute_result",
          "data": {
            "text/plain": [
              "(0.3888888888888889, -0.23333333333333336)"
            ]
          },
          "metadata": {
            "tags": []
          },
          "execution_count": 284
        }
      ]
    },
    {
      "cell_type": "code",
      "metadata": {
        "id": "MouTGmHT--hh"
      },
      "source": [
        "textblob_df['Subjectivity'] = textblob_df['Tweet'].apply(lambda x : TextBlob_Analaysis(x)[0])\n",
        "textblob_df['Polarity'] = textblob_df['Tweet'].apply(lambda x : TextBlob_Analaysis(x)[1])"
      ],
      "execution_count": null,
      "outputs": []
    },
    {
      "cell_type": "code",
      "metadata": {
        "id": "Iznizf0PBym0",
        "outputId": "f1f318e3-deee-411e-87b0-98b51ca0c724",
        "colab": {
          "base_uri": "https://localhost:8080/",
          "height": 404
        }
      },
      "source": [
        "# plot subjectivity vs polarity \n",
        "plt.figure(figsize=(8,6)) \n",
        "plt.scatter(textblob_df[\"Polarity\"], textblob_df[\"Subjectivity\"], s = 10) \n",
        "plt.title('Sentiment Analysis') \n",
        "plt.xlabel('Polarity') \n",
        "plt.ylabel('Subjectivity') \n",
        "plt.show()"
      ],
      "execution_count": null,
      "outputs": [
        {
          "output_type": "display_data",
          "data": {
            "image/png": "[encoded data removed]",
            "text/plain": [
              "<Figure size 576x432 with 1 Axes>"
            ]
          },
          "metadata": {
            "tags": [],
            "needs_background": "light"
          }
        }
      ]
    },
    {
      "cell_type": "code",
      "metadata": {
        "id": "89i8dUTlByhZ"
      },
      "source": [
        "def Classify(score, treshold) : \n",
        "  if score > treshold : \n",
        "    return 'Positive'\n",
        "  elif score < -treshold : \n",
        "    return 'Negative'\n",
        "  else : \n",
        "    return 'Neutral'"
      ],
      "execution_count": null,
      "outputs": []
    },
    {
      "cell_type": "code",
      "metadata": {
        "id": "9Hz6ZYtUGbl7"
      },
      "source": [
        "textblob_df['Sentiment'] = textblob_df['Polarity'].apply(lambda x : Classify(x, 0.1))"
      ],
      "execution_count": null,
      "outputs": []
    },
    {
      "cell_type": "code",
      "metadata": {
        "id": "11oHtAIAGbjf",
        "outputId": "8d596227-25ed-42f1-aaa3-4b044c2d8e12",
        "colab": {
          "base_uri": "https://localhost:8080/",
          "height": 137
        }
      },
      "source": [
        "textblob_df.head(3)"
      ],
      "execution_count": null,
      "outputs": [
        {
          "output_type": "execute_result",
          "data": {
            "text/html": [
              "<div>\n",
              "<style scoped>\n",
              "    .dataframe tbody tr th:only-of-type {\n",
              "        vertical-align: middle;\n",
              "    }\n",
              "\n",
              "    .dataframe tbody tr th {\n",
              "        vertical-align: top;\n",
              "    }\n",
              "\n",
              "    .dataframe thead th {\n",
              "        text-align: right;\n",
              "    }\n",
              "</style>\n",
              "<table border=\"1\" class=\"dataframe\">\n",
              "  <thead>\n",
              "    <tr style=\"text-align: right;\">\n",
              "      <th></th>\n",
              "      <th>Tweet</th>\n",
              "      <th>Subjectivity</th>\n",
              "      <th>Polarity</th>\n",
              "      <th>Sentiment</th>\n",
              "    </tr>\n",
              "  </thead>\n",
              "  <tbody>\n",
              "    <tr>\n",
              "      <th>0</th>\n",
              "      <td>MorganStanley you might want to quit promoting...</td>\n",
              "      <td>0.388889</td>\n",
              "      <td>-0.233333</td>\n",
              "      <td>Negative</td>\n",
              "    </tr>\n",
              "    <tr>\n",
              "      <th>1</th>\n",
              "      <td>Of course, in the end, be wary of the Chinese ...</td>\n",
              "      <td>0.268750</td>\n",
              "      <td>-0.156250</td>\n",
              "      <td>Negative</td>\n",
              "    </tr>\n",
              "    <tr>\n",
              "      <th>2</th>\n",
              "      <td>Then, continue to decouple. If you don't know ...</td>\n",
              "      <td>0.483333</td>\n",
              "      <td>0.078333</td>\n",
              "      <td>Neutral</td>\n",
              "    </tr>\n",
              "  </tbody>\n",
              "</table>\n",
              "</div>"
            ],
            "text/plain": [
              "                                               Tweet  ...  Sentiment\n",
              "0  MorganStanley you might want to quit promoting...  ...   Negative\n",
              "1  Of course, in the end, be wary of the Chinese ...  ...   Negative\n",
              "2  Then, continue to decouple. If you don't know ...  ...    Neutral\n",
              "\n",
              "[3 rows x 4 columns]"
            ]
          },
          "metadata": {
            "tags": []
          },
          "execution_count": 292
        }
      ]
    },
    {
      "cell_type": "code",
      "metadata": {
        "id": "JcekydXqByd-",
        "outputId": "585824df-b7c2-4d3b-a343-4fd4edbec164",
        "colab": {
          "base_uri": "https://localhost:8080/",
          "height": 87
        }
      },
      "source": [
        "pd.value_counts(textblob_df['Sentiment'])"
      ],
      "execution_count": null,
      "outputs": [
        {
          "output_type": "execute_result",
          "data": {
            "text/plain": [
              "Neutral     5753\n",
              "Positive    2996\n",
              "Negative    1045\n",
              "Name: Sentiment, dtype: int64"
            ]
          },
          "metadata": {
            "tags": []
          },
          "execution_count": 293
        }
      ]
    },
    {
      "cell_type": "code",
      "metadata": {
        "id": "DKOx3DAeHCYS",
        "outputId": "31dfb1ff-0dc9-400b-bebb-20fe09740d51",
        "colab": {
          "base_uri": "https://localhost:8080/",
          "height": 247
        }
      },
      "source": [
        "plt.pie([2996,5753,1045], labels = ['positive', 'neutral', 'negative'])\n",
        "plt.show()"
      ],
      "execution_count": null,
      "outputs": [
        {
          "output_type": "display_data",
          "data": {
            "image/png": "[encoded data removed]",
            "text/plain": [
              "<Figure size 432x288 with 1 Axes>"
            ]
          },
          "metadata": {
            "tags": []
          }
        }
      ]
    },
    {
      "cell_type": "markdown",
      "metadata": {
        "id": "akzs4NYhfdEx"
      },
      "source": [
        "## **1.3 Flair**"
      ]
    },
    {
      "cell_type": "code",
      "metadata": {
        "id": "MefmkUtzdzpL"
      },
      "source": [
        "#!pip3 install flair\n",
        "import flair\n",
        "from flair.models import TextClassifier\n",
        "from flair.data import Sentence"
      ],
      "execution_count": null,
      "outputs": []
    },
    {
      "cell_type": "code",
      "metadata": {
        "id": "H9enuJ2Ofh4V",
        "outputId": "6bc3b337-c0fc-4235-dd06-899d95d7f75c",
        "colab": {
          "base_uri": "https://localhost:8080/",
          "height": 225,
          "referenced_widgets": [
            "294a5ec1db7b4891afa1f35bf63769d5",
            "0cfc68de625c4fd793c26f19147ead1b",
            "f195510755a145d0a389f7a1d7cf3143",
            "1cacc86101c540e7aa67bbd4c44f091f",
            "d49229f222c64440af7b7c6a38ce18b0",
            "13a220937a5941c0899ca75cf83c13e0",
            "c65b1cf89fd545eba2c09ab2b1a9d1a3",
            "8b05bb8463994b418f1b5e70dae26cc1",
            "385bec001f324c4eba684e23910f5a46",
            "72f62434fb6e4d98ad7ec8297d2ba466",
            "b361a1a72a69470d8e3eea2568222833",
            "b5639155309e4d4f9fa46779457cb996",
            "19e24f2ad07345ffa4521415b31146eb",
            "cf288657930f4fe99bb730db3f2616d7",
            "7959405542bd45c6bf2271ddf6778c0c",
            "0322b60f8cf34ee8aeef372d4b20c7e2"
          ]
        }
      },
      "source": [
        "flair_sentiment = TextClassifier.load('en-sentiment')"
      ],
      "execution_count": null,
      "outputs": [
        {
          "output_type": "stream",
          "text": [
            "2020-06-09 13:16:51,810 https://nlp.informatik.hu-berlin.de/resources/models/sentiment-curated-distilbert/sentiment-en-mix-distillbert.pt not found in cache, downloading to /tmp/tmp72rwu33s\n"
          ],
          "name": "stdout"
        },
        {
          "output_type": "stream",
          "text": [
            "100%|██████████| 266170364/266170364 [00:26<00:00, 10090368.25B/s]"
          ],
          "name": "stderr"
        },
        {
          "output_type": "stream",
          "text": [
            "2020-06-09 13:17:18,569 copying /tmp/tmp72rwu33s to cache at /root/.flair/models/sentiment-en-mix-distillbert.pt\n"
          ],
          "name": "stdout"
        },
        {
          "output_type": "stream",
          "text": [
            "\n"
          ],
          "name": "stderr"
        },
        {
          "output_type": "stream",
          "text": [
            "2020-06-09 13:17:19,144 removing temp file /tmp/tmp72rwu33s\n",
            "2020-06-09 13:17:19,375 loading file /root/.flair/models/sentiment-en-mix-distillbert.pt\n"
          ],
          "name": "stdout"
        },
        {
          "output_type": "display_data",
          "data": {
            "application/vnd.jupyter.widget-view+json": {
              "model_id": "294a5ec1db7b4891afa1f35bf63769d5",
              "version_minor": 0,
              "version_major": 2
            },
            "text/plain": [
              "HBox(children=(FloatProgress(value=0.0, description='Downloading', max=442.0, style=ProgressStyle(description_…"
            ]
          },
          "metadata": {
            "tags": []
          }
        },
        {
          "output_type": "stream",
          "text": [
            "\n"
          ],
          "name": "stdout"
        },
        {
          "output_type": "display_data",
          "data": {
            "application/vnd.jupyter.widget-view+json": {
              "model_id": "385bec001f324c4eba684e23910f5a46",
              "version_minor": 0,
              "version_major": 2
            },
            "text/plain": [
              "HBox(children=(FloatProgress(value=0.0, description='Downloading', max=231508.0, style=ProgressStyle(descripti…"
            ]
          },
          "metadata": {
            "tags": []
          }
        },
        {
          "output_type": "stream",
          "text": [
            "\n"
          ],
          "name": "stdout"
        }
      ]
    },
    {
      "cell_type": "code",
      "metadata": {
        "id": "ss0K3ufJgbyc",
        "outputId": "a41cfd0b-8366-4875-d64a-41ebf231e62f",
        "colab": {
          "base_uri": "https://localhost:8080/",
          "height": 692
        }
      },
      "source": [
        "start = time.time()\n",
        "scores_flair = []\n",
        "for x in tweets_preprocessed : \n",
        "  s = Sentence(x)\n",
        "  flair_sentiment.predict(s)\n",
        "  general_sentiment = s.labels\n",
        "  scores_flair.append(general_sentiment)\n",
        "\n",
        "print('Time taken to classify 10,000 tweets : {} sec\\n'.format(time.time() - start))\n"
      ],
      "execution_count": null,
      "outputs": [
        {
          "output_type": "stream",
          "text": [
            "2020-06-09 13:17:25,020 ACHTUNG: An empty Sentence was created! Are there empty strings in your dataset?\n",
            "2020-06-09 13:18:35,813 ACHTUNG: An empty Sentence was created! Are there empty strings in your dataset?\n",
            "2020-06-09 13:18:53,707 ACHTUNG: An empty Sentence was created! Are there empty strings in your dataset?\n",
            "2020-06-09 13:19:11,574 ACHTUNG: An empty Sentence was created! Are there empty strings in your dataset?\n",
            "2020-06-09 13:19:14,170 ACHTUNG: An empty Sentence was created! Are there empty strings in your dataset?\n",
            "2020-06-09 13:19:19,961 ACHTUNG: An empty Sentence was created! Are there empty strings in your dataset?\n",
            "2020-06-09 13:19:22,548 ACHTUNG: An empty Sentence was created! Are there empty strings in your dataset?\n",
            "2020-06-09 13:19:37,027 ACHTUNG: An empty Sentence was created! Are there empty strings in your dataset?\n",
            "2020-06-09 13:20:12,973 ACHTUNG: An empty Sentence was created! Are there empty strings in your dataset?\n",
            "2020-06-09 13:20:16,902 ACHTUNG: An empty Sentence was created! Are there empty strings in your dataset?\n",
            "2020-06-09 13:20:18,138 ACHTUNG: An empty Sentence was created! Are there empty strings in your dataset?\n",
            "2020-06-09 13:20:18,543 ACHTUNG: An empty Sentence was created! Are there empty strings in your dataset?\n",
            "2020-06-09 13:20:20,538 ACHTUNG: An empty Sentence was created! Are there empty strings in your dataset?\n",
            "2020-06-09 13:20:23,792 ACHTUNG: An empty Sentence was created! Are there empty strings in your dataset?\n",
            "2020-06-09 13:20:47,777 ACHTUNG: An empty Sentence was created! Are there empty strings in your dataset?\n",
            "2020-06-09 13:20:49,528 ACHTUNG: An empty Sentence was created! Are there empty strings in your dataset?\n",
            "2020-06-09 13:20:53,753 ACHTUNG: An empty Sentence was created! Are there empty strings in your dataset?\n",
            "2020-06-09 13:21:57,685 ACHTUNG: An empty Sentence was created! Are there empty strings in your dataset?\n",
            "2020-06-09 13:26:01,470 ACHTUNG: An empty Sentence was created! Are there empty strings in your dataset?\n",
            "2020-06-09 13:26:02,340 ACHTUNG: An empty Sentence was created! Are there empty strings in your dataset?\n",
            "2020-06-09 13:26:02,341 ACHTUNG: An empty Sentence was created! Are there empty strings in your dataset?\n",
            "2020-06-09 13:26:28,260 ACHTUNG: An empty Sentence was created! Are there empty strings in your dataset?\n",
            "2020-06-09 13:27:07,384 ACHTUNG: An empty Sentence was created! Are there empty strings in your dataset?\n",
            "2020-06-09 13:27:29,154 ACHTUNG: An empty Sentence was created! Are there empty strings in your dataset?\n",
            "2020-06-09 13:29:40,615 ACHTUNG: An empty Sentence was created! Are there empty strings in your dataset?\n",
            "2020-06-09 13:30:11,348 ACHTUNG: An empty Sentence was created! Are there empty strings in your dataset?\n",
            "2020-06-09 13:31:31,775 ACHTUNG: An empty Sentence was created! Are there empty strings in your dataset?\n",
            "2020-06-09 13:32:11,759 ACHTUNG: An empty Sentence was created! Are there empty strings in your dataset?\n",
            "2020-06-09 13:33:29,759 ACHTUNG: An empty Sentence was created! Are there empty strings in your dataset?\n",
            "2020-06-09 13:33:36,789 ACHTUNG: An empty Sentence was created! Are there empty strings in your dataset?\n",
            "2020-06-09 13:34:40,792 ACHTUNG: An empty Sentence was created! Are there empty strings in your dataset?\n",
            "2020-06-09 13:35:00,967 ACHTUNG: An empty Sentence was created! Are there empty strings in your dataset?\n",
            "2020-06-09 13:35:09,578 ACHTUNG: An empty Sentence was created! Are there empty strings in your dataset?\n",
            "2020-06-09 13:35:15,024 ACHTUNG: An empty Sentence was created! Are there empty strings in your dataset?\n",
            "2020-06-09 13:35:23,448 ACHTUNG: An empty Sentence was created! Are there empty strings in your dataset?\n",
            "2020-06-09 13:35:47,440 ACHTUNG: An empty Sentence was created! Are there empty strings in your dataset?\n",
            "Time taken to classify 10,000 tweets : 1111.9703571796417 sec\n",
            "\n"
          ],
          "name": "stdout"
        }
      ]
    },
    {
      "cell_type": "code",
      "metadata": {
        "id": "zQWg_KYOfoqn",
        "outputId": "2f85d807-a079-4f07-d9c9-86e673485a3c",
        "colab": {
          "base_uri": "https://localhost:8080/",
          "height": 123
        }
      },
      "source": [
        "scores_flair[:6]"
      ],
      "execution_count": null,
      "outputs": [
        {
          "output_type": "execute_result",
          "data": {
            "text/plain": [
              "[[NEGATIVE (0.9999)],\n",
              " [NEGATIVE (0.9988)],\n",
              " [NEGATIVE (1.0)],\n",
              " [NEGATIVE (0.9993)],\n",
              " [NEGATIVE (0.6767)],\n",
              " [NEGATIVE (0.9427)]]"
            ]
          },
          "metadata": {
            "tags": []
          },
          "execution_count": 219
        }
      ]
    },
    {
      "cell_type": "code",
      "metadata": {
        "id": "awCsdgmP3sAW"
      },
      "source": [
        "a = np.array(scores_flair)\n",
        "scores_string = []\n",
        "for i in range(len(a)) :\n",
        "  scores_string.append(str(a[i])) \n"
      ],
      "execution_count": null,
      "outputs": []
    },
    {
      "cell_type": "code",
      "metadata": {
        "id": "AHExRYuw8Q-V",
        "outputId": "6c8882cd-e925-46f9-db47-09db635204a8",
        "colab": {
          "base_uri": "https://localhost:8080/",
          "height": 123
        }
      },
      "source": [
        "scores_string[:6]"
      ],
      "execution_count": null,
      "outputs": [
        {
          "output_type": "execute_result",
          "data": {
            "text/plain": [
              "['[NEGATIVE (0.9999)]',\n",
              " '[NEGATIVE (0.9988)]',\n",
              " '[NEGATIVE (1.0)]',\n",
              " '[NEGATIVE (0.9993)]',\n",
              " '[NEGATIVE (0.6767)]',\n",
              " '[NEGATIVE (0.9427)]']"
            ]
          },
          "metadata": {
            "tags": []
          },
          "execution_count": 221
        }
      ]
    },
    {
      "cell_type": "code",
      "metadata": {
        "id": "spLSvyIRgo-u"
      },
      "source": [
        "Positive_indices = []\n",
        "Positive_scores = []\n",
        "Negative_indices =[]\n",
        "Negative_scores = [] \n",
        "for i in range(len(scores_string)) :\n",
        "  if re.match('\\\\[N', scores_string[i]):\n",
        "    k = re.sub(r'[\\[NEGATIVE (]', \"\",scores_string[i]).strip()\n",
        "    k = re.sub(r'\\)]$', '', k).strip()\n",
        "    Negative_indices.append(i)\n",
        "    Negative_scores.append(float(k))\n",
        "\n",
        "  if re.match('\\\\[P', scores_string[i]):\n",
        "    k = re.sub(r'[\\[POSITIVE (]', \"\",scores_string[i]).strip()\n",
        "    k = re.sub(r'\\)]$', '', k).strip()\n",
        "    Positive_indices.append(i)\n",
        "    Positive_scores.append(float(k))\n"
      ],
      "execution_count": null,
      "outputs": []
    },
    {
      "cell_type": "code",
      "metadata": {
        "id": "WOoKS9g77ZHe",
        "outputId": "9a58def5-1399-4548-9644-751c04cd540c",
        "colab": {
          "base_uri": "https://localhost:8080/",
          "height": 52
        }
      },
      "source": [
        "print(len(Positive_scores))\n",
        "print(len(Negative_scores))"
      ],
      "execution_count": null,
      "outputs": [
        {
          "output_type": "stream",
          "text": [
            "4711\n",
            "5047\n"
          ],
          "name": "stdout"
        }
      ]
    },
    {
      "cell_type": "code",
      "metadata": {
        "id": "KmQhHuxn9ejv"
      },
      "source": [
        "Sentiment_score = []\n",
        "Sentiment_index = []\n",
        "Sentiment_type = []\n",
        "\n",
        "for i in range(len(Positive_scores)): \n",
        "  Sentiment_index.append(Positive_indices[i])\n",
        "  Sentiment_score.append(Positive_scores[i])\n",
        "  if Positive_scores[i]>0.95 : \n",
        "    Sentiment_type.append('Positive')\n",
        "  else : \n",
        "    Sentiment_type.append('Neutral')\n",
        "\n",
        "for i in range(len(Negative_scores)): \n",
        "  Sentiment_score.append(- Negative_scores[i])\n",
        "  Sentiment_index.append(Negative_indices[i])\n",
        "  if Negative_scores[i]>0.95 : \n",
        "    Sentiment_type.append('Negative')\n",
        "  else : \n",
        "    Sentiment_type.append('Neutral')"
      ],
      "execution_count": null,
      "outputs": []
    },
    {
      "cell_type": "code",
      "metadata": {
        "id": "HiCJwK8SiSQj"
      },
      "source": [
        "Sentiment_analysis = pd.DataFrame({'Type': Sentiment_type, 'Score' : Sentiment_score}, index = Sentiment_index).sort_index()"
      ],
      "execution_count": null,
      "outputs": []
    },
    {
      "cell_type": "code",
      "metadata": {
        "id": "69wvDuv8p3n1",
        "outputId": "83ba2d93-24aa-4547-eb09-cc145d29ae69",
        "colab": {
          "base_uri": "https://localhost:8080/",
          "height": 137
        }
      },
      "source": [
        "Sentiment_analysis.head(3)"
      ],
      "execution_count": null,
      "outputs": [
        {
          "output_type": "execute_result",
          "data": {
            "text/html": [
              "<div>\n",
              "<style scoped>\n",
              "    .dataframe tbody tr th:only-of-type {\n",
              "        vertical-align: middle;\n",
              "    }\n",
              "\n",
              "    .dataframe tbody tr th {\n",
              "        vertical-align: top;\n",
              "    }\n",
              "\n",
              "    .dataframe thead th {\n",
              "        text-align: right;\n",
              "    }\n",
              "</style>\n",
              "<table border=\"1\" class=\"dataframe\">\n",
              "  <thead>\n",
              "    <tr style=\"text-align: right;\">\n",
              "      <th></th>\n",
              "      <th>Type</th>\n",
              "      <th>Score</th>\n",
              "    </tr>\n",
              "  </thead>\n",
              "  <tbody>\n",
              "    <tr>\n",
              "      <th>0</th>\n",
              "      <td>Negative</td>\n",
              "      <td>-0.9999</td>\n",
              "    </tr>\n",
              "    <tr>\n",
              "      <th>1</th>\n",
              "      <td>Negative</td>\n",
              "      <td>-0.9988</td>\n",
              "    </tr>\n",
              "    <tr>\n",
              "      <th>2</th>\n",
              "      <td>Negative</td>\n",
              "      <td>-1.0000</td>\n",
              "    </tr>\n",
              "  </tbody>\n",
              "</table>\n",
              "</div>"
            ],
            "text/plain": [
              "       Type   Score\n",
              "0  Negative -0.9999\n",
              "1  Negative -0.9988\n",
              "2  Negative -1.0000"
            ]
          },
          "metadata": {
            "tags": []
          },
          "execution_count": 422
        }
      ]
    },
    {
      "cell_type": "code",
      "metadata": {
        "id": "s3jpGV8FyPn_",
        "outputId": "74780ebd-56c4-4aa8-d847-398b3ccf5768",
        "colab": {
          "base_uri": "https://localhost:8080/",
          "height": 87
        }
      },
      "source": [
        "proportions = pd.value_counts(Sentiment_analysis['Type'])\n",
        "proportions"
      ],
      "execution_count": null,
      "outputs": [
        {
          "output_type": "execute_result",
          "data": {
            "text/plain": [
              "Neutral     3585\n",
              "Negative    3411\n",
              "Positive    2762\n",
              "Name: Type, dtype: int64"
            ]
          },
          "metadata": {
            "tags": []
          },
          "execution_count": 316
        }
      ]
    },
    {
      "cell_type": "code",
      "metadata": {
        "id": "Wyy6M0hSySde",
        "outputId": "d953d69f-eced-4274-d746-6506593ecd8b",
        "colab": {
          "base_uri": "https://localhost:8080/",
          "height": 282
        }
      },
      "source": [
        "s2 = [3291, 2828, 3639]\n",
        "plt.pie(s2, labels = ['positive', 'neutral', 'negative'])\n",
        "plt.title('Sentiments with a treshold of 0.9')\n",
        "plt.show"
      ],
      "execution_count": null,
      "outputs": [
        {
          "output_type": "execute_result",
          "data": {
            "text/plain": [
              "<function matplotlib.pyplot.show>"
            ]
          },
          "metadata": {
            "tags": []
          },
          "execution_count": 228
        },
        {
          "output_type": "display_data",
          "data": {
            "image/png": "[encoded data removed]",
            "text/plain": [
              "<Figure size 432x288 with 1 Axes>"
            ]
          },
          "metadata": {
            "tags": []
          }
        }
      ]
    },
    {
      "cell_type": "markdown",
      "metadata": {
        "id": "xivSAVuAOIOb"
      },
      "source": [
        "## **1.4 Comparison of the libraries**"
      ]
    },
    {
      "cell_type": "code",
      "metadata": {
        "id": "kmr8CyMbVLVl"
      },
      "source": [
        "def assign_binary(sentiment) : \n",
        "  if sentiment == 'Positive': \n",
        "    return 1\n",
        "  elif sentiment == 'Negative' :\n",
        "    return -1\n",
        "  else : \n",
        "    return 0"
      ],
      "execution_count": null,
      "outputs": []
    },
    {
      "cell_type": "code",
      "metadata": {
        "id": "p4l-WU2VOMS_"
      },
      "source": [
        "# comparison of the results\n",
        "\n",
        "comparative_df = pd.DataFrame(data = {'Tweet' : tweets_preprocessed})\n",
        "comparative_df['Textblob Score'] = textblob_df['Polarity']\n",
        "comparative_df['Textblob Sentiment'] = textblob_df['Sentiment']\n",
        "\n",
        "comparative_df['NLTK Score'] = scores_vader_df['compound']\n",
        "comparative_df['NLTK Sentiment'] = scores_vader_df['compound'].apply(lambda x : Classify(x,0.2))\n",
        "\n",
        "comparative_df['Flair Score'] = Sentiment_analysis['Score']\n",
        "comparative_df['Flair Sentiment'] = Sentiment_analysis['Type']\n",
        "\n",
        "comparative_df['Textblob'] = comparative_df['Textblob Sentiment'].apply(lambda x :assign_binary(x))\n",
        "comparative_df['NLTK'] = comparative_df['NLTK Sentiment'].apply(lambda x :assign_binary(x))\n",
        "comparative_df['Flair'] = comparative_df['Flair Sentiment'].apply(lambda x :assign_binary(x))\n",
        "\n"
      ],
      "execution_count": null,
      "outputs": []
    },
    {
      "cell_type": "code",
      "metadata": {
        "id": "h6Fl6PzZOMQw",
        "outputId": "8d964b3a-1c50-40b7-ad9c-817a97560422",
        "colab": {
          "base_uri": "https://localhost:8080/",
          "height": 197
        }
      },
      "source": [
        "comparative_df.head()"
      ],
      "execution_count": null,
      "outputs": [
        {
          "output_type": "execute_result",
          "data": {
            "text/html": [
              "<div>\n",
              "<style scoped>\n",
              "    .dataframe tbody tr th:only-of-type {\n",
              "        vertical-align: middle;\n",
              "    }\n",
              "\n",
              "    .dataframe tbody tr th {\n",
              "        vertical-align: top;\n",
              "    }\n",
              "\n",
              "    .dataframe thead th {\n",
              "        text-align: right;\n",
              "    }\n",
              "</style>\n",
              "<table border=\"1\" class=\"dataframe\">\n",
              "  <thead>\n",
              "    <tr style=\"text-align: right;\">\n",
              "      <th></th>\n",
              "      <th>Tweet</th>\n",
              "      <th>Textblob Score</th>\n",
              "      <th>Textblob Sentiment</th>\n",
              "      <th>NLTK Score</th>\n",
              "      <th>NLTK Sentiment</th>\n",
              "      <th>Flair Score</th>\n",
              "      <th>Flair Sentiment</th>\n",
              "      <th>Textblob</th>\n",
              "      <th>NLTK</th>\n",
              "      <th>Flair</th>\n",
              "    </tr>\n",
              "  </thead>\n",
              "  <tbody>\n",
              "    <tr>\n",
              "      <th>0</th>\n",
              "      <td>MorganStanley you might want to quit promoting...</td>\n",
              "      <td>-0.233333</td>\n",
              "      <td>Negative</td>\n",
              "      <td>-0.0258</td>\n",
              "      <td>Neutral</td>\n",
              "      <td>-0.9999</td>\n",
              "      <td>Negative</td>\n",
              "      <td>-1</td>\n",
              "      <td>0</td>\n",
              "      <td>-1</td>\n",
              "    </tr>\n",
              "    <tr>\n",
              "      <th>1</th>\n",
              "      <td>Of course, in the end, be wary of the Chinese ...</td>\n",
              "      <td>-0.156250</td>\n",
              "      <td>Negative</td>\n",
              "      <td>-0.1027</td>\n",
              "      <td>Neutral</td>\n",
              "      <td>-0.9988</td>\n",
              "      <td>Negative</td>\n",
              "      <td>-1</td>\n",
              "      <td>0</td>\n",
              "      <td>-1</td>\n",
              "    </tr>\n",
              "    <tr>\n",
              "      <th>2</th>\n",
              "      <td>Then, continue to decouple. If you don't know ...</td>\n",
              "      <td>0.078333</td>\n",
              "      <td>Neutral</td>\n",
              "      <td>0.7339</td>\n",
              "      <td>Positive</td>\n",
              "      <td>-1.0000</td>\n",
              "      <td>Negative</td>\n",
              "      <td>0</td>\n",
              "      <td>1</td>\n",
              "      <td>-1</td>\n",
              "    </tr>\n",
              "    <tr>\n",
              "      <th>3</th>\n",
              "      <td>Now, the CCP's internal factions are making so...</td>\n",
              "      <td>-0.023810</td>\n",
              "      <td>Neutral</td>\n",
              "      <td>-0.1027</td>\n",
              "      <td>Neutral</td>\n",
              "      <td>-0.9993</td>\n",
              "      <td>Negative</td>\n",
              "      <td>0</td>\n",
              "      <td>0</td>\n",
              "      <td>-1</td>\n",
              "    </tr>\n",
              "    <tr>\n",
              "      <th>4</th>\n",
              "      <td>According to MorganStanley, an historic initia...</td>\n",
              "      <td>0.000000</td>\n",
              "      <td>Neutral</td>\n",
              "      <td>0.0000</td>\n",
              "      <td>Neutral</td>\n",
              "      <td>-0.6767</td>\n",
              "      <td>Neutral</td>\n",
              "      <td>0</td>\n",
              "      <td>0</td>\n",
              "      <td>0</td>\n",
              "    </tr>\n",
              "  </tbody>\n",
              "</table>\n",
              "</div>"
            ],
            "text/plain": [
              "                                               Tweet  ...  Flair\n",
              "0  MorganStanley you might want to quit promoting...  ...     -1\n",
              "1  Of course, in the end, be wary of the Chinese ...  ...     -1\n",
              "2  Then, continue to decouple. If you don't know ...  ...     -1\n",
              "3  Now, the CCP's internal factions are making so...  ...     -1\n",
              "4  According to MorganStanley, an historic initia...  ...      0\n",
              "\n",
              "[5 rows x 10 columns]"
            ]
          },
          "metadata": {
            "tags": []
          },
          "execution_count": 319
        }
      ]
    },
    {
      "cell_type": "code",
      "metadata": {
        "id": "QYcBoJPicjIn",
        "outputId": "d6df31c7-7f5a-4cf4-caf8-7de1fcc1d884",
        "colab": {
          "base_uri": "https://localhost:8080/",
          "height": 137
        }
      },
      "source": [
        "# unique values \n",
        "s1 = pd.value_counts(comparative_df['Textblob']).sort_index().values\n",
        "s2 = pd.value_counts(comparative_df['NLTK']).sort_index().values\n",
        "s3 = pd.value_counts(comparative_df['Flair']).sort_index().values\n",
        "\n",
        "unique_summary = pd.DataFrame({'Textblob' :s1,'NLTK': s2,'Flair' : s3}, index = [-1,0,1])\n",
        "unique_summary.head()"
      ],
      "execution_count": null,
      "outputs": [
        {
          "output_type": "execute_result",
          "data": {
            "text/html": [
              "<div>\n",
              "<style scoped>\n",
              "    .dataframe tbody tr th:only-of-type {\n",
              "        vertical-align: middle;\n",
              "    }\n",
              "\n",
              "    .dataframe tbody tr th {\n",
              "        vertical-align: top;\n",
              "    }\n",
              "\n",
              "    .dataframe thead th {\n",
              "        text-align: right;\n",
              "    }\n",
              "</style>\n",
              "<table border=\"1\" class=\"dataframe\">\n",
              "  <thead>\n",
              "    <tr style=\"text-align: right;\">\n",
              "      <th></th>\n",
              "      <th>Textblob</th>\n",
              "      <th>NLTK</th>\n",
              "      <th>Flair</th>\n",
              "    </tr>\n",
              "  </thead>\n",
              "  <tbody>\n",
              "    <tr>\n",
              "      <th>-1</th>\n",
              "      <td>1045</td>\n",
              "      <td>2098</td>\n",
              "      <td>3411</td>\n",
              "    </tr>\n",
              "    <tr>\n",
              "      <th>0</th>\n",
              "      <td>5753</td>\n",
              "      <td>4100</td>\n",
              "      <td>3621</td>\n",
              "    </tr>\n",
              "    <tr>\n",
              "      <th>1</th>\n",
              "      <td>2996</td>\n",
              "      <td>3596</td>\n",
              "      <td>2762</td>\n",
              "    </tr>\n",
              "  </tbody>\n",
              "</table>\n",
              "</div>"
            ],
            "text/plain": [
              "    Textblob  NLTK  Flair\n",
              "-1      1045  2098   3411\n",
              " 0      5753  4100   3621\n",
              " 1      2996  3596   2762"
            ]
          },
          "metadata": {
            "tags": []
          },
          "execution_count": 320
        }
      ]
    },
    {
      "cell_type": "code",
      "metadata": {
        "id": "1e828u8hOMOd"
      },
      "source": [
        "groups = comparative_df.groupby(['Textblob', 'NLTK', 'Flair']).count()['Tweet']"
      ],
      "execution_count": null,
      "outputs": []
    },
    {
      "cell_type": "code",
      "metadata": {
        "id": "JzJna2SkTgtZ",
        "outputId": "372e0eef-de08-48fe-9e85-aabf9dc3944d",
        "colab": {
          "base_uri": "https://localhost:8080/",
          "height": 532
        }
      },
      "source": [
        "groups"
      ],
      "execution_count": null,
      "outputs": [
        {
          "output_type": "execute_result",
          "data": {
            "text/plain": [
              "Textblob  NLTK  Flair\n",
              "-1        -1    -1        426\n",
              "                 0        128\n",
              "                 1         23\n",
              "           0    -1        170\n",
              "                 0         95\n",
              "                 1         36\n",
              "           1    -1         82\n",
              "                 0         54\n",
              "                 1         31\n",
              " 0        -1    -1        748\n",
              "                 0        308\n",
              "                 1         95\n",
              "           0    -1        787\n",
              "                 0       1385\n",
              "                 1       1018\n",
              "           1    -1        390\n",
              "                 0        541\n",
              "                 1        481\n",
              " 1        -1    -1        220\n",
              "                 0        118\n",
              "                 1         32\n",
              "           0    -1        190\n",
              "                 0        290\n",
              "                 1        129\n",
              "           1    -1        398\n",
              "                 0        702\n",
              "                 1        917\n",
              "Name: Tweet, dtype: int64"
            ]
          },
          "metadata": {
            "tags": []
          },
          "execution_count": 322
        }
      ]
    },
    {
      "cell_type": "code",
      "metadata": {
        "id": "c7jMSJ-eTgp5",
        "outputId": "b4d581d4-86e8-4e36-ddbc-847db8ec1a51",
        "colab": {
          "base_uri": "https://localhost:8080/",
          "height": 197
        }
      },
      "source": [
        "nltk_vs_textblob = comparative_df.groupby(['Textblob', 'NLTK']).count()['Tweet']\n",
        "nltk_vs_textblob = pd.DataFrame(nltk_vs_textblob).unstack()\n",
        "nltk_vs_textblob"
      ],
      "execution_count": null,
      "outputs": [
        {
          "output_type": "execute_result",
          "data": {
            "text/html": [
              "<div>\n",
              "<style scoped>\n",
              "    .dataframe tbody tr th:only-of-type {\n",
              "        vertical-align: middle;\n",
              "    }\n",
              "\n",
              "    .dataframe tbody tr th {\n",
              "        vertical-align: top;\n",
              "    }\n",
              "\n",
              "    .dataframe thead tr th {\n",
              "        text-align: left;\n",
              "    }\n",
              "\n",
              "    .dataframe thead tr:last-of-type th {\n",
              "        text-align: right;\n",
              "    }\n",
              "</style>\n",
              "<table border=\"1\" class=\"dataframe\">\n",
              "  <thead>\n",
              "    <tr>\n",
              "      <th></th>\n",
              "      <th colspan=\"3\" halign=\"left\">Tweet</th>\n",
              "    </tr>\n",
              "    <tr>\n",
              "      <th>NLTK</th>\n",
              "      <th>-1</th>\n",
              "      <th>0</th>\n",
              "      <th>1</th>\n",
              "    </tr>\n",
              "    <tr>\n",
              "      <th>Textblob</th>\n",
              "      <th></th>\n",
              "      <th></th>\n",
              "      <th></th>\n",
              "    </tr>\n",
              "  </thead>\n",
              "  <tbody>\n",
              "    <tr>\n",
              "      <th>-1</th>\n",
              "      <td>577</td>\n",
              "      <td>301</td>\n",
              "      <td>167</td>\n",
              "    </tr>\n",
              "    <tr>\n",
              "      <th>0</th>\n",
              "      <td>1151</td>\n",
              "      <td>3190</td>\n",
              "      <td>1412</td>\n",
              "    </tr>\n",
              "    <tr>\n",
              "      <th>1</th>\n",
              "      <td>370</td>\n",
              "      <td>609</td>\n",
              "      <td>2017</td>\n",
              "    </tr>\n",
              "  </tbody>\n",
              "</table>\n",
              "</div>"
            ],
            "text/plain": [
              "         Tweet            \n",
              "NLTK        -1     0     1\n",
              "Textblob                  \n",
              "-1         577   301   167\n",
              " 0        1151  3190  1412\n",
              " 1         370   609  2017"
            ]
          },
          "metadata": {
            "tags": []
          },
          "execution_count": 323
        }
      ]
    },
    {
      "cell_type": "code",
      "metadata": {
        "id": "S-eKTWf7XVOf",
        "outputId": "6653bede-d4ee-41e4-bb02-08d4fc01cfb8",
        "colab": {
          "base_uri": "https://localhost:8080/",
          "height": 264
        }
      },
      "source": [
        "figure = plt.figure(figsize = (14,4))\n",
        "plt.subplot(1,3,1)\n",
        "plt.pie(unique_summary['Textblob'], labels = ['Negative', 'Neutral', 'Positive'])\n",
        "plt.title('Textblob analaysis')\n",
        "plt.subplot(1,3,2)\n",
        "plt.pie(unique_summary['NLTK'], labels = ['Negative', 'Neutral', 'Positive'])\n",
        "plt.title('NLTK analaysis')\n",
        "plt.subplot(1,3,3)\n",
        "plt.pie(unique_summary['Flair'], labels = ['Negative', 'Neutral', 'Positive'])\n",
        "plt.title('Flair analaysis')\n",
        "plt.show()"
      ],
      "execution_count": null,
      "outputs": [
        {
          "output_type": "display_data",
          "data": {
            "image/png": "[encoded data removed]",
            "text/plain": [
              "<Figure size 1008x288 with 3 Axes>"
            ]
          },
          "metadata": {
            "tags": []
          }
        }
      ]
    },
    {
      "cell_type": "code",
      "metadata": {
        "id": "Bo058BcggLEv",
        "outputId": "383de438-4fb6-476c-f0dc-0d62f7750fc2",
        "colab": {
          "base_uri": "https://localhost:8080/",
          "height": 302
        }
      },
      "source": [
        "import seaborn as sbn\n",
        "sbn.heatmap(nltk_vs_textblob, cmap = 'hot')\n",
        "\n",
        "# most of the neutral tweets are classified as neutral by the different libraries, they don't agree on some extreme cases"
      ],
      "execution_count": null,
      "outputs": [
        {
          "output_type": "execute_result",
          "data": {
            "text/plain": [
              "<matplotlib.axes._subplots.AxesSubplot at 0x7f1f8e207be0>"
            ]
          },
          "metadata": {
            "tags": []
          },
          "execution_count": 344
        },
        {
          "output_type": "display_data",
          "data": {
            "image/png": "[encoded data removed]",
            "text/plain": [
              "<Figure size 432x288 with 2 Axes>"
            ]
          },
          "metadata": {
            "tags": []
          }
        }
      ]
    },
    {
      "cell_type": "markdown",
      "metadata": {
        "id": "cn-noDlhq7W9"
      },
      "source": [
        "## **2. Preprocess for better results**"
      ]
    },
    {
      "cell_type": "code",
      "metadata": {
        "id": "sXPS5Vler0et",
        "outputId": "fa84361e-a523-4c44-ef96-0b0252ff720e",
        "colab": {
          "base_uri": "https://localhost:8080/",
          "height": 70
        }
      },
      "source": [
        "from nltk.corpus import stopwords\n",
        "import nltk\n",
        "nltk.download(\"stopwords\") "
      ],
      "execution_count": null,
      "outputs": [
        {
          "output_type": "stream",
          "text": [
            "[nltk_data] Downloading package stopwords to /root/nltk_data...\n",
            "[nltk_data]   Package stopwords is already up-to-date!\n"
          ],
          "name": "stdout"
        },
        {
          "output_type": "execute_result",
          "data": {
            "text/plain": [
              "True"
            ]
          },
          "metadata": {
            "tags": []
          },
          "execution_count": 24
        }
      ]
    },
    {
      "cell_type": "code",
      "metadata": {
        "id": "kilKbcYCsqqC"
      },
      "source": [
        "def preprocess_tweets(tweets) : \n",
        "  filtered = []\n",
        "  preprocessed_tweets = []\n",
        "  for tweet in tweets : \n",
        "    if re.match('^.*(MorganStanley|morganstanley|bank|transaction|finance).*$', tweet):\n",
        "      split = tweet.split(' ')\n",
        "      filtered.append([word for word in split if word not in stopwords.words('english')])\n",
        "\n",
        "  for word_list in filtered : \n",
        "    v = ''\n",
        "    for i in range (len(word_list)) : \n",
        "      v = v + ' ' + word_list[i]\n",
        "    preprocessed_tweets.append(v)\n",
        "\n",
        "  return preprocessed_tweets\n"
      ],
      "execution_count": null,
      "outputs": []
    },
    {
      "cell_type": "code",
      "metadata": {
        "id": "4eDJ5vjTrFjA",
        "outputId": "66f03023-696a-4f5f-8d5b-4d2e0d2e95da",
        "colab": {
          "base_uri": "https://localhost:8080/",
          "height": 301
        }
      },
      "source": [
        "### TESTING PIECES OF CODE ####\n",
        "\n",
        "print('SPLIT INTO WOEDS AND REMOVE STOPWORDS')\n",
        "print()\n",
        "split_tweets= []\n",
        "for tweet in tweets_preprocessed[:1] : \n",
        "  split_tweets.append(tweet.split(' '))\n",
        "\n",
        "filtered_words = []\n",
        "for tweet in split_tweets : \n",
        "  filtered_words.append([word for word in tweet if word not in stopwords.words('english')])\n",
        "\n",
        "print('split : ', split_tweets)\n",
        "print('filtrered : ', filtered_words)\n",
        "print('---------------------------------------------------------------------------------------------')\n",
        "\n",
        "print()\n",
        "print('SELECT ONLY RELEVANT TWEETS AND REMOVE STOPWORDS')\n",
        "print()\n",
        "filtered = []\n",
        "for tweets in tweets_preprocessed[:2] : \n",
        "  if re.match('^.*(MorganStanley|morganstanley|bank|transaction|finance).*$', tweets):\n",
        "    split = tweets.split(' ')\n",
        "    filtered.append([word for word in split if word not in stopwords.words('english')])\n",
        "\n",
        "print('relevant tweets filtered : ', filtered)\n",
        "print('number of remaining tweets : ', len(filtered))\n",
        "\n",
        "print('---------------------------------------------------------------------------------------------')\n",
        "print()\n",
        "print('REBUILD A STRING FROM REMAINING WORDS')\n",
        "print()\n",
        "\n",
        "filtered_tweets = []\n",
        "\n",
        "for word_list in filtered : \n",
        "  v = ''\n",
        "  for i in range (len(word_list)) : \n",
        "    v = v + ' ' + word_list[i]\n",
        "  filtered_tweets.append(v)\n",
        "print(filtered_tweets)\n",
        "print('---------------------------------------------------------------------------------------------')\n"
      ],
      "execution_count": null,
      "outputs": [
        {
          "output_type": "stream",
          "text": [
            "SPLIT INTO WOEDS AND REMOVE STOPWORDS\n",
            "\n",
            "split :  [['MorganStanley', 'you', 'might', 'want', 'to', 'quit', 'promoting', 'REALLY', 'OLD', 'GUIDANCE', 'that’s', 'worthless', 'in', 'the', 'last', 'two', 'weeks.']]\n",
            "filtrered :  [['MorganStanley', 'might', 'want', 'quit', 'promoting', 'REALLY', 'OLD', 'GUIDANCE', 'that’s', 'worthless', 'last', 'two', 'weeks.']]\n",
            "---------------------------------------------------------------------------------------------\n",
            "\n",
            "SELECT ONLY RELEVANT TWEETS AND REMOVE STOPWORDS\n",
            "\n",
            "relevant tweets filtered :  [['MorganStanley', 'might', 'want', 'quit', 'promoting', 'REALLY', 'OLD', 'GUIDANCE', 'that’s', 'worthless', 'last', 'two', 'weeks.']]\n",
            "number of remaining tweets :  1\n",
            "---------------------------------------------------------------------------------------------\n",
            "\n",
            "REBUILD A STRING FROM REMAINING WORDS\n",
            "\n",
            "[' MorganStanley might want quit promoting REALLY OLD GUIDANCE that’s worthless last two weeks.']\n",
            "---------------------------------------------------------------------------------------------\n"
          ],
          "name": "stdout"
        }
      ]
    },
    {
      "cell_type": "code",
      "metadata": {
        "id": "M6Ntql-tyBJx",
        "outputId": "f90ca229-6799-420a-a75a-d617794636d7",
        "colab": {
          "base_uri": "https://localhost:8080/",
          "height": 70
        }
      },
      "source": [
        "preprocessed_tweets = preprocess_tweets(tweets_preprocessed)\n",
        "preprocessed_tweets[:3]"
      ],
      "execution_count": null,
      "outputs": [
        {
          "output_type": "execute_result",
          "data": {
            "text/plain": [
              "[' MorganStanley might want quit promoting REALLY OLD GUIDANCE that’s worthless last two weeks.',\n",
              " ' According MorganStanley, historic initial jobless claims report coming tomorrow...',\n",
              " ' realdonaldtrump morganstanley Please tell everyone Truth gameofthrones got georgerrmartin https://ifunny.co/fun/b8pu5GMW7?s=t iFunny']"
            ]
          },
          "metadata": {
            "tags": []
          },
          "execution_count": 27
        }
      ]
    },
    {
      "cell_type": "code",
      "metadata": {
        "id": "qtNsP54wyZVD",
        "outputId": "386af6f1-7914-4442-a78b-7b33cc94d966",
        "colab": {
          "base_uri": "https://localhost:8080/",
          "height": 34
        }
      },
      "source": [
        "len(preprocessed_tweets)"
      ],
      "execution_count": null,
      "outputs": [
        {
          "output_type": "execute_result",
          "data": {
            "text/plain": [
              "6134"
            ]
          },
          "metadata": {
            "tags": []
          },
          "execution_count": 28
        }
      ]
    },
    {
      "cell_type": "markdown",
      "metadata": {
        "id": "9MMReWvl1K6q"
      },
      "source": [
        "## **2.1 NLTK on preprocessed tweets**"
      ]
    },
    {
      "cell_type": "code",
      "metadata": {
        "id": "1tdEsyIX0wt3",
        "outputId": "eabbcc88-ac66-4821-ec33-d940e5f32b0e",
        "colab": {
          "base_uri": "https://localhost:8080/",
          "height": 107
        }
      },
      "source": [
        "import nltk\n",
        "nltk.download('vader_lexicon')\n",
        "from nltk.sentiment.vader import SentimentIntensityAnalyzer"
      ],
      "execution_count": null,
      "outputs": [
        {
          "output_type": "stream",
          "text": [
            "[nltk_data] Downloading package vader_lexicon to /root/nltk_data...\n",
            "[nltk_data]   Package vader_lexicon is already up-to-date!\n"
          ],
          "name": "stdout"
        },
        {
          "output_type": "stream",
          "text": [
            "/usr/local/lib/python3.6/dist-packages/nltk/twitter/__init__.py:20: UserWarning: The twython library has not been installed. Some functionality from the twitter package will not be available.\n",
            "  warnings.warn(\"The twython library has not been installed. \"\n"
          ],
          "name": "stderr"
        }
      ]
    },
    {
      "cell_type": "code",
      "metadata": {
        "id": "K9GMH_ks1N8h"
      },
      "source": [
        "sid = SentimentIntensityAnalyzer()"
      ],
      "execution_count": null,
      "outputs": []
    },
    {
      "cell_type": "code",
      "metadata": {
        "id": "Htu6yw8cjqy0"
      },
      "source": [
        "def Classify(score, treshold) : \n",
        "  if score > treshold : \n",
        "    return 'Positive'\n",
        "  elif score < -treshold : \n",
        "    return 'Negative'\n",
        "  else : \n",
        "    return 'Neutral'"
      ],
      "execution_count": null,
      "outputs": []
    },
    {
      "cell_type": "code",
      "metadata": {
        "id": "h3C53w9D1REl"
      },
      "source": [
        "def vader_sentiment_analysis(treshold):\n",
        "\n",
        "  summary = {\"positive\":0,\"neutral\":0,\"negative\":0}\n",
        "  scores_vader = []\n",
        "  start = time.time()\n",
        "\n",
        "  for x in preprocessed_tweets: \n",
        "      score = sid.polarity_scores(x)\n",
        "      scores_vader.append(score)\n",
        "      if score[\"compound\"] == 0.0: \n",
        "          summary[\"neutral\"] +=1\n",
        "      elif score[\"compound\"] > 0.0:\n",
        "          summary[\"positive\"] +=1\n",
        "      else:\n",
        "          summary[\"negative\"] +=1\n",
        "\n",
        "  scores_vader_df = pd.DataFrame(scores_vader)\n",
        "  scores_vader_df.rename(columns = {'neg':'Negative', 'neu':'Neutral', 'pos':'Positive', 'compound': 'Compound'}, inplace = True)\n",
        "  scores_vader_df['Sentiment'] = scores_vader_df['Compound'].apply(lambda x : Classify(x,treshold))\n",
        "  print('Time taken to classify {} tweets : {} sec\\n'.format(len(preprocessed_tweets),time.time() - start))\n",
        "\n",
        "  return scores_vader_df, summary"
      ],
      "execution_count": null,
      "outputs": []
    },
    {
      "cell_type": "code",
      "metadata": {
        "id": "_STuZ8uXkW2n",
        "outputId": "415ca174-8efe-4869-94a7-51f92976143a",
        "colab": {
          "base_uri": "https://localhost:8080/",
          "height": 251
        }
      },
      "source": [
        "df, s = vader_sentiment_analysis(0.2)\n",
        "print(s)\n",
        "df.head()"
      ],
      "execution_count": null,
      "outputs": [
        {
          "output_type": "stream",
          "text": [
            "Time taken to classify 6134 tweets : 1.5610721111297607 sec\n",
            "\n",
            "{'positive': 2732, 'neutral': 2084, 'negative': 1318}\n"
          ],
          "name": "stdout"
        },
        {
          "output_type": "execute_result",
          "data": {
            "text/html": [
              "<div>\n",
              "<style scoped>\n",
              "    .dataframe tbody tr th:only-of-type {\n",
              "        vertical-align: middle;\n",
              "    }\n",
              "\n",
              "    .dataframe tbody tr th {\n",
              "        vertical-align: top;\n",
              "    }\n",
              "\n",
              "    .dataframe thead th {\n",
              "        text-align: right;\n",
              "    }\n",
              "</style>\n",
              "<table border=\"1\" class=\"dataframe\">\n",
              "  <thead>\n",
              "    <tr style=\"text-align: right;\">\n",
              "      <th></th>\n",
              "      <th>Negative</th>\n",
              "      <th>Neutral</th>\n",
              "      <th>Positive</th>\n",
              "      <th>Compound</th>\n",
              "      <th>Sentiment</th>\n",
              "    </tr>\n",
              "  </thead>\n",
              "  <tbody>\n",
              "    <tr>\n",
              "      <th>0</th>\n",
              "      <td>0.174</td>\n",
              "      <td>0.599</td>\n",
              "      <td>0.228</td>\n",
              "      <td>-0.0258</td>\n",
              "      <td>Neutral</td>\n",
              "    </tr>\n",
              "    <tr>\n",
              "      <th>1</th>\n",
              "      <td>0.000</td>\n",
              "      <td>1.000</td>\n",
              "      <td>0.000</td>\n",
              "      <td>0.0000</td>\n",
              "      <td>Neutral</td>\n",
              "    </tr>\n",
              "    <tr>\n",
              "      <th>2</th>\n",
              "      <td>0.000</td>\n",
              "      <td>0.662</td>\n",
              "      <td>0.338</td>\n",
              "      <td>0.5574</td>\n",
              "      <td>Positive</td>\n",
              "    </tr>\n",
              "    <tr>\n",
              "      <th>3</th>\n",
              "      <td>0.000</td>\n",
              "      <td>1.000</td>\n",
              "      <td>0.000</td>\n",
              "      <td>0.0000</td>\n",
              "      <td>Neutral</td>\n",
              "    </tr>\n",
              "    <tr>\n",
              "      <th>4</th>\n",
              "      <td>0.305</td>\n",
              "      <td>0.695</td>\n",
              "      <td>0.000</td>\n",
              "      <td>-0.6908</td>\n",
              "      <td>Negative</td>\n",
              "    </tr>\n",
              "  </tbody>\n",
              "</table>\n",
              "</div>"
            ],
            "text/plain": [
              "   Negative  Neutral  Positive  Compound Sentiment\n",
              "0     0.174    0.599     0.228   -0.0258   Neutral\n",
              "1     0.000    1.000     0.000    0.0000   Neutral\n",
              "2     0.000    0.662     0.338    0.5574  Positive\n",
              "3     0.000    1.000     0.000    0.0000   Neutral\n",
              "4     0.305    0.695     0.000   -0.6908  Negative"
            ]
          },
          "metadata": {
            "tags": []
          },
          "execution_count": 42
        }
      ]
    },
    {
      "cell_type": "code",
      "metadata": {
        "id": "PCETbAtk1ZEO",
        "outputId": "c5926b7c-f71d-463b-facc-98a6a83d0d0a",
        "colab": {
          "base_uri": "https://localhost:8080/",
          "height": 34
        }
      },
      "source": [
        "s"
      ],
      "execution_count": null,
      "outputs": [
        {
          "output_type": "execute_result",
          "data": {
            "text/plain": [
              "{'negative': 1318, 'neutral': 2084, 'positive': 2732}"
            ]
          },
          "metadata": {
            "tags": []
          },
          "execution_count": 43
        }
      ]
    },
    {
      "cell_type": "code",
      "metadata": {
        "id": "0PTcz-3c1tMm",
        "outputId": "cce1d56b-b7d6-49a3-fd0f-593a897bd08b",
        "colab": {
          "base_uri": "https://localhost:8080/",
          "height": 265
        }
      },
      "source": [
        "s = [2732,2084,1318]\n",
        "\n",
        "plt.pie(s, labels = ['positive', 'neutral', 'negative'])\n",
        "plt.show\n"
      ],
      "execution_count": null,
      "outputs": [
        {
          "output_type": "execute_result",
          "data": {
            "text/plain": [
              "<function matplotlib.pyplot.show>"
            ]
          },
          "metadata": {
            "tags": []
          },
          "execution_count": 44
        },
        {
          "output_type": "display_data",
          "data": {
            "image/png": "[encoded data removed]",
            "text/plain": [
              "<Figure size 432x288 with 1 Axes>"
            ]
          },
          "metadata": {
            "tags": []
          }
        }
      ]
    },
    {
      "cell_type": "markdown",
      "metadata": {
        "id": "yjL4jeISnr65"
      },
      "source": [
        "## **2.2 Textblob on preprocessed tweets**"
      ]
    },
    {
      "cell_type": "code",
      "metadata": {
        "id": "ADd7ulVJ13n2"
      },
      "source": [
        "from textblob import TextBlob"
      ],
      "execution_count": null,
      "outputs": []
    },
    {
      "cell_type": "code",
      "metadata": {
        "id": "OqBBPXlan4sg"
      },
      "source": [
        "def Tweet_TextBlob_Analaysis(tweet) : \n",
        "  subjectivity = TextBlob(tweet).sentiment.subjectivity\n",
        "  polarity = TextBlob(tweet).sentiment.polarity\n",
        "  return subjectivity, polarity"
      ],
      "execution_count": null,
      "outputs": []
    },
    {
      "cell_type": "code",
      "metadata": {
        "id": "zMtsqPe9n4mi"
      },
      "source": [
        "def Textblob_Sentiment_Anlaysis(treshold): \n",
        "\n",
        "  start = time.time()\n",
        "  textblob_df = pd.DataFrame(data = {'Tweet' : preprocessed_tweets})\n",
        "  textblob_df['Subjectivity'] = textblob_df['Tweet'].apply(lambda x : Tweet_TextBlob_Analaysis(x)[0])\n",
        "  textblob_df['Polarity'] = textblob_df['Tweet'].apply(lambda x : Tweet_TextBlob_Analaysis(x)[1])\n",
        "  textblob_df['Sentiment'] = textblob_df['Polarity'].apply(lambda x : Classify(x, treshold))\n",
        "\n",
        "  summary = textblob_df.groupby('Sentiment').count()['Tweet']\n",
        "  print('Time taken to classify {} tweets : {} sec\\n'.format(len(preprocessed_tweets),time.time() - start))\n",
        "\n",
        "  return textblob_df , summary\n",
        "\n",
        "\n"
      ],
      "execution_count": null,
      "outputs": []
    },
    {
      "cell_type": "code",
      "metadata": {
        "id": "lvuGslkJoLlq",
        "outputId": "0358ad34-7322-4575-833b-8b40fa89a189",
        "colab": {
          "base_uri": "https://localhost:8080/",
          "height": 322
        }
      },
      "source": [
        "df, s = Textblob_Sentiment_Anlaysis(0.1)\n",
        "print(s)\n",
        "df.head()"
      ],
      "execution_count": null,
      "outputs": [
        {
          "output_type": "stream",
          "text": [
            "Time taken to classify 6134 tweets : 13.547977685928345 sec\n",
            "\n",
            "Sentiment\n",
            "Negative     546\n",
            "Neutral     3920\n",
            "Positive    1668\n",
            "Name: Tweet, dtype: int64\n"
          ],
          "name": "stdout"
        },
        {
          "output_type": "execute_result",
          "data": {
            "text/html": [
              "<div>\n",
              "<style scoped>\n",
              "    .dataframe tbody tr th:only-of-type {\n",
              "        vertical-align: middle;\n",
              "    }\n",
              "\n",
              "    .dataframe tbody tr th {\n",
              "        vertical-align: top;\n",
              "    }\n",
              "\n",
              "    .dataframe thead th {\n",
              "        text-align: right;\n",
              "    }\n",
              "</style>\n",
              "<table border=\"1\" class=\"dataframe\">\n",
              "  <thead>\n",
              "    <tr style=\"text-align: right;\">\n",
              "      <th></th>\n",
              "      <th>Tweet</th>\n",
              "      <th>Subjectivity</th>\n",
              "      <th>Polarity</th>\n",
              "      <th>Sentiment</th>\n",
              "    </tr>\n",
              "  </thead>\n",
              "  <tbody>\n",
              "    <tr>\n",
              "      <th>0</th>\n",
              "      <td>MorganStanley might want quit promoting REALL...</td>\n",
              "      <td>0.388889</td>\n",
              "      <td>-0.233333</td>\n",
              "      <td>Negative</td>\n",
              "    </tr>\n",
              "    <tr>\n",
              "      <th>1</th>\n",
              "      <td>According MorganStanley, historic initial job...</td>\n",
              "      <td>0.000000</td>\n",
              "      <td>0.000000</td>\n",
              "      <td>Neutral</td>\n",
              "    </tr>\n",
              "    <tr>\n",
              "      <th>2</th>\n",
              "      <td>realdonaldtrump morganstanley Please tell eve...</td>\n",
              "      <td>0.000000</td>\n",
              "      <td>0.000000</td>\n",
              "      <td>Neutral</td>\n",
              "    </tr>\n",
              "    <tr>\n",
              "      <th>3</th>\n",
              "      <td>realdonaldtrump morganstanley Where's Money? ...</td>\n",
              "      <td>0.000000</td>\n",
              "      <td>0.000000</td>\n",
              "      <td>Neutral</td>\n",
              "    </tr>\n",
              "    <tr>\n",
              "      <th>4</th>\n",
              "      <td>realdonaldtrump morganstanley You're really g...</td>\n",
              "      <td>0.450000</td>\n",
              "      <td>-0.100000</td>\n",
              "      <td>Neutral</td>\n",
              "    </tr>\n",
              "  </tbody>\n",
              "</table>\n",
              "</div>"
            ],
            "text/plain": [
              "                                               Tweet  ...  Sentiment\n",
              "0   MorganStanley might want quit promoting REALL...  ...   Negative\n",
              "1   According MorganStanley, historic initial job...  ...    Neutral\n",
              "2   realdonaldtrump morganstanley Please tell eve...  ...    Neutral\n",
              "3   realdonaldtrump morganstanley Where's Money? ...  ...    Neutral\n",
              "4   realdonaldtrump morganstanley You're really g...  ...    Neutral\n",
              "\n",
              "[5 rows x 4 columns]"
            ]
          },
          "metadata": {
            "tags": []
          },
          "execution_count": 48
        }
      ]
    },
    {
      "cell_type": "markdown",
      "metadata": {
        "id": "aVKn7DUgqh09"
      },
      "source": [
        "## **2.3 Flair on preprocessed tweets**"
      ]
    },
    {
      "cell_type": "code",
      "metadata": {
        "id": "sJ_OgNc1oL3O"
      },
      "source": [
        "import flair\n",
        "from flair.models import TextClassifier\n",
        "from flair.data import Sentence"
      ],
      "execution_count": null,
      "outputs": []
    },
    {
      "cell_type": "code",
      "metadata": {
        "id": "DiLoIxCboL09",
        "outputId": "4b8ab7ff-b0d9-4446-8ef5-b01aa472bca5",
        "colab": {
          "base_uri": "https://localhost:8080/",
          "height": 34
        }
      },
      "source": [
        "flair_sentiment = TextClassifier.load('en-sentiment')"
      ],
      "execution_count": null,
      "outputs": [
        {
          "output_type": "stream",
          "text": [
            "2020-06-09 15:38:41,530 loading file /root/.flair/models/sentiment-en-mix-distillbert.pt\n"
          ],
          "name": "stdout"
        }
      ]
    },
    {
      "cell_type": "code",
      "metadata": {
        "id": "7t-OQEaMoLwL"
      },
      "source": [
        "def flair_scores_to_strings(flair_scores):\n",
        "  a = np.array(flair_scores)\n",
        "  scores_string = []\n",
        "  for i in range(len(a)) :\n",
        "    scores_string.append(str(a[i])) \n",
        "  return scores_string\n",
        "\n",
        "\n",
        "\n",
        "\n",
        "def clean_strings(scores_string): \n",
        "  Positive_indices = []\n",
        "  Positive_scores = []\n",
        "  Negative_indices =[]\n",
        "  Negative_scores = [] \n",
        "\n",
        "  for i in range(len(scores_string)) :\n",
        "    if re.match('\\\\[N', scores_string[i]):\n",
        "      k = re.sub(r'[\\[NEGATIVE (]', \"\",scores_string[i]).strip()\n",
        "      k = re.sub(r'\\)]$', '', k).strip()\n",
        "      Negative_indices.append(i)\n",
        "      Negative_scores.append(float(k))\n",
        "\n",
        "    if re.match('\\\\[P', scores_string[i]):\n",
        "      k = re.sub(r'[\\[POSITIVE (]', \"\",scores_string[i]).strip()\n",
        "      k = re.sub(r'\\)]$', '', k).strip()\n",
        "      Positive_indices.append(i)\n",
        "      Positive_scores.append(float(k))\n",
        "\n",
        "  print(len(Positive_scores))\n",
        "  print(len(Negative_scores))\n",
        "  return Positive_indices, Positive_scores, Negative_indices, Negative_scores\n",
        "\n",
        "\n",
        "\n",
        "def generate_flair_sentiments(Positive_indices, Positive_scores, Negative_indices, Negative_scores, treshold) :\n",
        "  Sentiment_score = []\n",
        "  Sentiment_index = []\n",
        "  Sentiment_type = []\n",
        "\n",
        "  for i in range(len(Positive_scores)): \n",
        "    Sentiment_index.append(Positive_indices[i])\n",
        "    Sentiment_score.append(Positive_scores[i])\n",
        "    if Positive_scores[i]> treshold : \n",
        "      Sentiment_type.append('Positive')\n",
        "    else : \n",
        "      Sentiment_type.append('Neutral')\n",
        "\n",
        "  for i in range(len(Negative_scores)): \n",
        "    Sentiment_score.append(- Negative_scores[i])\n",
        "    Sentiment_index.append(Negative_indices[i])\n",
        "    if Negative_scores[i]> treshold : \n",
        "      Sentiment_type.append('Negative')\n",
        "    else : \n",
        "      Sentiment_type.append('Neutral')\n",
        "\n",
        "  Sentiment_analysis_flair = pd.DataFrame({'Type': Sentiment_type, 'Score' : Sentiment_score}, index = Sentiment_index).sort_index()\n",
        "\n",
        "  return Sentiment_analysis_flair\n",
        "\n"
      ],
      "execution_count": null,
      "outputs": []
    },
    {
      "cell_type": "code",
      "metadata": {
        "id": "Iek8DZAkrDyF"
      },
      "source": [
        "def Flair_sentiment_analysis(treshold) : \n",
        "\n",
        "  start = time.time()\n",
        "  scores_flair = []\n",
        "  for x in preprocessed_tweets : \n",
        "    s = Sentence(x)\n",
        "    flair_sentiment.predict(s)\n",
        "    general_sentiment = s.labels\n",
        "    scores_flair.append(general_sentiment)\n",
        "\n",
        "  scores_string = flair_scores_to_strings(scores_flair)\n",
        "  Positive_indices, Positive_scores, Negative_indices, Negative_scores = clean_strings(scores_string)\n",
        "  Sentiment_analysis_flair= generate_flair_sentiments(Positive_indices, Positive_scores, Negative_indices, Negative_scores, treshold)\n",
        "\n",
        "  print('Time taken to classify 10,000 tweets : {} sec\\n'.format(time.time() - start))\n",
        "\n",
        "  return Sentiment_analysis_flair\n",
        "\n",
        "\n",
        "\n",
        "\n",
        "\n"
      ],
      "execution_count": null,
      "outputs": []
    },
    {
      "cell_type": "code",
      "metadata": {
        "id": "YowJYOWTrDv1",
        "outputId": "817c7542-8936-478e-8817-2bc537800c2d",
        "colab": {
          "base_uri": "https://localhost:8080/",
          "height": 87
        }
      },
      "source": [
        "data = Flair_sentiment_analysis(0.95)"
      ],
      "execution_count": null,
      "outputs": [
        {
          "output_type": "stream",
          "text": [
            "3236\n",
            "2898\n",
            "Time taken to classify 10,000 tweets : 774.7062406539917 sec\n",
            "\n"
          ],
          "name": "stdout"
        }
      ]
    },
    {
      "cell_type": "code",
      "metadata": {
        "id": "N9fKnbdorDs_"
      },
      "source": [
        ""
      ],
      "execution_count": null,
      "outputs": []
    },
    {
      "cell_type": "markdown",
      "metadata": {
        "id": "_3WZ68q1vhwt"
      },
      "source": [
        "## **2.4 Comparison of the methods**"
      ]
    },
    {
      "cell_type": "code",
      "metadata": {
        "id": "L1K1XNkmvkj3"
      },
      "source": [
        "def assign_binary(sentiment) : \n",
        "  if sentiment == 'Positive': \n",
        "    return 1\n",
        "  elif sentiment == 'Negative' :\n",
        "    return -1\n",
        "  else : \n",
        "    return 0"
      ],
      "execution_count": null,
      "outputs": []
    },
    {
      "cell_type": "code",
      "metadata": {
        "id": "AiPEC0apvlBt"
      },
      "source": [
        "def results_summary (df_textblob, df_nlkt, df_flair):\n",
        "\n",
        "  comparative_df = pd.DataFrame(data = {'Tweet' : preprocessed_tweets})\n",
        "\n",
        "  comparative_df['Textblob Score'] = df_textblob['Polarity']\n",
        "  comparative_df['Textblob Sentiment'] = df_textblob['Sentiment']\n",
        "\n",
        "  comparative_df['NLTK Score'] = df_nlkt['Compound']\n",
        "  comparative_df['NLTK Sentiment'] = df_nlkt['Sentiment']\n",
        "\n",
        "\n",
        "  comparative_df['Flair Score'] = df_flair['Score']\n",
        "  comparative_df['Flair Sentiment'] = df_flair['Type']\n",
        "\n",
        "  comparative_df['Textblob'] = comparative_df['Textblob Sentiment'].apply(lambda x :assign_binary(x))\n",
        "  comparative_df['NLTK'] = comparative_df['NLTK Sentiment'].apply(lambda x :assign_binary(x))\n",
        "  comparative_df['Flair'] = comparative_df['Flair Sentiment'].apply(lambda x :assign_binary(x))\n",
        "\n",
        "  return comparative_df"
      ],
      "execution_count": null,
      "outputs": []
    },
    {
      "cell_type": "code",
      "metadata": {
        "id": "mmF45nIjxi6T",
        "outputId": "2dd920ba-f8d0-4406-931d-11ce0a036573",
        "colab": {
          "base_uri": "https://localhost:8080/",
          "height": 87
        }
      },
      "source": [
        "df_textblob = Textblob_Sentiment_Anlaysis(0.1)[0]\n",
        "df_nltk = vader_sentiment_analysis(0.2)[0]\n",
        "\n",
        "comparative_df = results_summary(df_textblob, df_nltk, data)"
      ],
      "execution_count": null,
      "outputs": [
        {
          "output_type": "stream",
          "text": [
            "Time taken to classify 6134 tweets : 13.410462617874146 sec\n",
            "\n",
            "Time taken to classify 6134 tweets : 1.5802819728851318 sec\n",
            "\n"
          ],
          "name": "stdout"
        }
      ]
    },
    {
      "cell_type": "code",
      "metadata": {
        "id": "enW9nrP_xJ0r",
        "outputId": "0196de22-0d5a-49fb-ffad-db49f9251b19",
        "colab": {
          "base_uri": "https://localhost:8080/",
          "height": 137
        }
      },
      "source": [
        "# unique values \n",
        "s1 = pd.value_counts(comparative_df['Textblob']).sort_index().values\n",
        "s2 = pd.value_counts(comparative_df['NLTK']).sort_index().values\n",
        "s3 = pd.value_counts(comparative_df['Flair']).sort_index().values\n",
        "\n",
        "unique_summary = pd.DataFrame({'Textblob' :s1,'NLTK': s2,'Flair' : s3}, index = [-1,0,1])\n",
        "unique_summary.head()"
      ],
      "execution_count": null,
      "outputs": [
        {
          "output_type": "execute_result",
          "data": {
            "text/html": [
              "<div>\n",
              "<style scoped>\n",
              "    .dataframe tbody tr th:only-of-type {\n",
              "        vertical-align: middle;\n",
              "    }\n",
              "\n",
              "    .dataframe tbody tr th {\n",
              "        vertical-align: top;\n",
              "    }\n",
              "\n",
              "    .dataframe thead th {\n",
              "        text-align: right;\n",
              "    }\n",
              "</style>\n",
              "<table border=\"1\" class=\"dataframe\">\n",
              "  <thead>\n",
              "    <tr style=\"text-align: right;\">\n",
              "      <th></th>\n",
              "      <th>Textblob</th>\n",
              "      <th>NLTK</th>\n",
              "      <th>Flair</th>\n",
              "    </tr>\n",
              "  </thead>\n",
              "  <tbody>\n",
              "    <tr>\n",
              "      <th>-1</th>\n",
              "      <td>546</td>\n",
              "      <td>1117</td>\n",
              "      <td>1798</td>\n",
              "    </tr>\n",
              "    <tr>\n",
              "      <th>0</th>\n",
              "      <td>3920</td>\n",
              "      <td>2803</td>\n",
              "      <td>2478</td>\n",
              "    </tr>\n",
              "    <tr>\n",
              "      <th>1</th>\n",
              "      <td>1668</td>\n",
              "      <td>2214</td>\n",
              "      <td>1858</td>\n",
              "    </tr>\n",
              "  </tbody>\n",
              "</table>\n",
              "</div>"
            ],
            "text/plain": [
              "    Textblob  NLTK  Flair\n",
              "-1       546  1117   1798\n",
              " 0      3920  2803   2478\n",
              " 1      1668  2214   1858"
            ]
          },
          "metadata": {
            "tags": []
          },
          "execution_count": 50
        }
      ]
    },
    {
      "cell_type": "code",
      "metadata": {
        "id": "P27qew0exJxs",
        "outputId": "2956a03f-59d2-4d2e-9489-fa0e0c227c73",
        "colab": {
          "base_uri": "https://localhost:8080/",
          "height": 197
        }
      },
      "source": [
        "# nltk vs textblob comparison\n",
        "nltk_vs_textblob = comparative_df.groupby(['Textblob', 'NLTK']).count()['Tweet']\n",
        "nltk_vs_textblob = pd.DataFrame(nltk_vs_textblob).unstack()\n",
        "nltk_vs_textblob"
      ],
      "execution_count": null,
      "outputs": [
        {
          "output_type": "execute_result",
          "data": {
            "text/html": [
              "<div>\n",
              "<style scoped>\n",
              "    .dataframe tbody tr th:only-of-type {\n",
              "        vertical-align: middle;\n",
              "    }\n",
              "\n",
              "    .dataframe tbody tr th {\n",
              "        vertical-align: top;\n",
              "    }\n",
              "\n",
              "    .dataframe thead tr th {\n",
              "        text-align: left;\n",
              "    }\n",
              "\n",
              "    .dataframe thead tr:last-of-type th {\n",
              "        text-align: right;\n",
              "    }\n",
              "</style>\n",
              "<table border=\"1\" class=\"dataframe\">\n",
              "  <thead>\n",
              "    <tr>\n",
              "      <th></th>\n",
              "      <th colspan=\"3\" halign=\"left\">Tweet</th>\n",
              "    </tr>\n",
              "    <tr>\n",
              "      <th>NLTK</th>\n",
              "      <th>-1</th>\n",
              "      <th>0</th>\n",
              "      <th>1</th>\n",
              "    </tr>\n",
              "    <tr>\n",
              "      <th>Textblob</th>\n",
              "      <th></th>\n",
              "      <th></th>\n",
              "      <th></th>\n",
              "    </tr>\n",
              "  </thead>\n",
              "  <tbody>\n",
              "    <tr>\n",
              "      <th>-1</th>\n",
              "      <td>305</td>\n",
              "      <td>148</td>\n",
              "      <td>93</td>\n",
              "    </tr>\n",
              "    <tr>\n",
              "      <th>0</th>\n",
              "      <td>615</td>\n",
              "      <td>2343</td>\n",
              "      <td>962</td>\n",
              "    </tr>\n",
              "    <tr>\n",
              "      <th>1</th>\n",
              "      <td>197</td>\n",
              "      <td>312</td>\n",
              "      <td>1159</td>\n",
              "    </tr>\n",
              "  </tbody>\n",
              "</table>\n",
              "</div>"
            ],
            "text/plain": [
              "         Tweet            \n",
              "NLTK        -1     0     1\n",
              "Textblob                  \n",
              "-1         305   148    93\n",
              " 0         615  2343   962\n",
              " 1         197   312  1159"
            ]
          },
          "metadata": {
            "tags": []
          },
          "execution_count": 51
        }
      ]
    },
    {
      "cell_type": "code",
      "metadata": {
        "id": "Y7pncGI1xZfe",
        "outputId": "354f4271-5c42-46c2-a7ef-a12f60d5949c",
        "colab": {
          "base_uri": "https://localhost:8080/",
          "height": 264
        }
      },
      "source": [
        "figure = plt.figure(figsize = (14,4))\n",
        "plt.subplot(1,3,1)\n",
        "plt.pie(unique_summary['Textblob'], labels = ['Negative', 'Neutral', 'Positive'])\n",
        "plt.title('Textblob analaysis')\n",
        "plt.subplot(1,3,2)\n",
        "plt.pie(unique_summary['NLTK'], labels = ['Negative', 'Neutral', 'Positive'])\n",
        "plt.title('NLTK analaysis')\n",
        "plt.subplot(1,3,3)\n",
        "plt.pie(unique_summary['Flair'], labels = ['Negative', 'Neutral', 'Positive'])\n",
        "plt.title('Flair analaysis')\n",
        "plt.show()"
      ],
      "execution_count": null,
      "outputs": [
        {
          "output_type": "display_data",
          "data": {
            "image/png": "[encoded data removed]",
            "text/plain": [
              "<Figure size 1008x288 with 3 Axes>"
            ]
          },
          "metadata": {
            "tags": []
          }
        }
      ]
    },
    {
      "cell_type": "code",
      "metadata": {
        "id": "DYjYkx-lxZnV",
        "outputId": "28496d93-6bfc-4236-cef2-dd2941d17a5f",
        "colab": {
          "base_uri": "https://localhost:8080/",
          "height": 352
        }
      },
      "source": [
        "import seaborn as sbn\n",
        "sbn.heatmap(nltk_vs_textblob, cmap = 'hot')"
      ],
      "execution_count": null,
      "outputs": [
        {
          "output_type": "stream",
          "text": [
            "/usr/local/lib/python3.6/dist-packages/statsmodels/tools/_testing.py:19: FutureWarning: pandas.util.testing is deprecated. Use the functions in the public API at pandas.testing instead.\n",
            "  import pandas.util.testing as tm\n"
          ],
          "name": "stderr"
        },
        {
          "output_type": "execute_result",
          "data": {
            "text/plain": [
              "<matplotlib.axes._subplots.AxesSubplot at 0x7f1434fe55c0>"
            ]
          },
          "metadata": {
            "tags": []
          },
          "execution_count": 53
        },
        {
          "output_type": "display_data",
          "data": {
            "image/png": "[encoded data removed]",
            "text/plain": [
              "<Figure size 432x288 with 2 Axes>"
            ]
          },
          "metadata": {
            "tags": [],
            "needs_background": "light"
          }
        }
      ]
    },
    {
      "cell_type": "code",
      "metadata": {
        "id": "b37CyyA4yc9d"
      },
      "source": [
        ""
      ],
      "execution_count": null,
      "outputs": []
    }
  ]
}